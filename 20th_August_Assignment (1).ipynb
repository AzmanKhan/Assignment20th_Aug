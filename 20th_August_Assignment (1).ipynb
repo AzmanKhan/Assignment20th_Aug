{
 "cells": [
  {
   "cell_type": "code",
   "execution_count": 1,
   "id": "58cc1d20-c684-41d4-ac4c-462fe247e478",
   "metadata": {},
   "outputs": [],
   "source": [
    "# 1 Write a program to reverse a string.\n",
    "s = \"azman\""
   ]
  },
  {
   "cell_type": "code",
   "execution_count": 2,
   "id": "deb5f742-44a6-4389-b8cc-fb3e1a35ca0c",
   "metadata": {},
   "outputs": [
    {
     "data": {
      "text/plain": [
       "'namza'"
      ]
     },
     "execution_count": 2,
     "metadata": {},
     "output_type": "execute_result"
    }
   ],
   "source": [
    "s[::-1]"
   ]
  },
  {
   "cell_type": "code",
   "execution_count": 3,
   "id": "cf1409eb-1641-4e7e-b2ac-a317470df754",
   "metadata": {},
   "outputs": [
    {
     "name": "stdin",
     "output_type": "stream",
     "text": [
      " azman ldkfk\n"
     ]
    },
    {
     "name": "stdout",
     "output_type": "stream",
     "text": [
      "not a palindrome\n"
     ]
    }
   ],
   "source": [
    "#2 eck if a string is a palindrome.\n",
    "s =input()\n",
    "#reversed a string and save it into another variable\n",
    "new_s = s[::-1]\n",
    "#comapre the reversed string to the original string if palindrome then sprint it\n",
    "if new_s == s :\n",
    "    print(\"palindrome\")\n",
    "else:\n",
    "    print(\"not a palindrome\")"
   ]
  },
  {
   "cell_type": "code",
   "execution_count": 4,
   "id": "c4ebc341-f519-45d7-a401-b99931860c6b",
   "metadata": {},
   "outputs": [
    {
     "data": {
      "text/plain": [
       "'AZMAN KHAN'"
      ]
     },
     "execution_count": 4,
     "metadata": {},
     "output_type": "execute_result"
    }
   ],
   "source": [
    "#3 Convert a string to uppercase.\n",
    "s1 = \"azman khan\"\n",
    "s1.upper()"
   ]
  },
  {
   "cell_type": "code",
   "execution_count": 5,
   "id": "9f49c4a4-037d-452f-a24a-a4ae9ef81823",
   "metadata": {},
   "outputs": [
    {
     "data": {
      "text/plain": [
       "'azman khan'"
      ]
     },
     "execution_count": 5,
     "metadata": {},
     "output_type": "execute_result"
    }
   ],
   "source": [
    "#4 Convert a string to lowercase. \n",
    "s1.lower()"
   ]
  },
  {
   "cell_type": "code",
   "execution_count": 6,
   "id": "6a2dc17b-5e44-4ad1-91c5-5afda10d23f5",
   "metadata": {},
   "outputs": [
    {
     "name": "stdin",
     "output_type": "stream",
     "text": [
      " akdjf\n"
     ]
    },
    {
     "data": {
      "text/plain": [
       "1"
      ]
     },
     "execution_count": 6,
     "metadata": {},
     "output_type": "execute_result"
    }
   ],
   "source": [
    "#5 Count the number of vowels in a string.\n",
    "sentence = input()\n",
    "vowel_count = 0\n",
    "vowel = ('a' , 'e', 'i', 'o', 'u')\n",
    "for char in sentence:\n",
    "    if  char in vowel :\n",
    "        vowel_count += 1\n",
    "vowel_count\n"
   ]
  },
  {
   "cell_type": "code",
   "execution_count": 7,
   "id": "ca45f7f8-a290-40b7-a669-0da3a498c29e",
   "metadata": {},
   "outputs": [
    {
     "name": "stdin",
     "output_type": "stream",
     "text": [
      " akddldkdkjdkj\n"
     ]
    },
    {
     "data": {
      "text/plain": [
       "12"
      ]
     },
     "execution_count": 7,
     "metadata": {},
     "output_type": "execute_result"
    }
   ],
   "source": [
    "#6 Count the number of consonants in a string.\n",
    "sentence = input()\n",
    "vowel_count = 0\n",
    "vowel = ('a' , 'e', 'i', 'o', 'u')\n",
    "for char in sentence:\n",
    "    if  char not in vowel :\n",
    "        vowel_count += 1\n",
    "vowel_count\n"
   ]
  },
  {
   "cell_type": "code",
   "execution_count": 8,
   "id": "de4672d3-2854-48db-8579-498501b108c1",
   "metadata": {},
   "outputs": [
    {
     "data": {
      "text/plain": [
       "'pwskillsdatascienceprocourse'"
      ]
     },
     "execution_count": 8,
     "metadata": {},
     "output_type": "execute_result"
    }
   ],
   "source": [
    "#7 Remove all whitespaces from a string.\n",
    "s = \"pwskills data science pro course \"\n",
    "s.replace(\" \",\"\")"
   ]
  },
  {
   "cell_type": "code",
   "execution_count": 9,
   "id": "bb99a12e-f9a4-43f2-a2c8-d35d96e56b0a",
   "metadata": {},
   "outputs": [
    {
     "name": "stdin",
     "output_type": "stream",
     "text": [
      " fmnfnfnkakjd\n"
     ]
    },
    {
     "name": "stdout",
     "output_type": "stream",
     "text": [
      "length is - 12\n"
     ]
    }
   ],
   "source": [
    "#8 Find the length of a string without using the `len()` function.\n",
    "s = input()\n",
    "count = 0\n",
    "for index in s :\n",
    "    count += 1 # count = count +1\n",
    "print(\"length is -\",count)\n",
    "    \n"
   ]
  },
  {
   "cell_type": "code",
   "execution_count": 10,
   "id": "eac701b2-c212-4e6b-bb21-58539259b094",
   "metadata": {},
   "outputs": [
    {
     "name": "stdin",
     "output_type": "stream",
     "text": [
      " azman jha is \n"
     ]
    },
    {
     "name": "stdout",
     "output_type": "stream",
     "text": [
      "specific character is present \n"
     ]
    }
   ],
   "source": [
    "#9 Check if a string contains a specific word.\n",
    "string = input ()\n",
    "if \"is\" in string :\n",
    "    print (\"specific character is present \")\n",
    "else :\n",
    "    print(\"specific character is not present\")"
   ]
  },
  {
   "cell_type": "code",
   "execution_count": 11,
   "id": "2de63896-e2d3-4ddc-bbce-16c6d089aff0",
   "metadata": {},
   "outputs": [
    {
     "data": {
      "text/plain": [
       "'You are the best'"
      ]
     },
     "execution_count": 11,
     "metadata": {},
     "output_type": "execute_result"
    }
   ],
   "source": [
    "#10. Replace a word in a string with another word.\n",
    "something= \"You are not best\"\n",
    "something.replace(\"not\",\"the\")"
   ]
  },
  {
   "cell_type": "code",
   "execution_count": 12,
   "id": "7ae8d67f-1ff1-4bf6-8d3d-6350d8a7e588",
   "metadata": {},
   "outputs": [
    {
     "data": {
      "text/plain": [
       "3"
      ]
     },
     "execution_count": 12,
     "metadata": {},
     "output_type": "execute_result"
    }
   ],
   "source": [
    "#11. Count the occurrences of a word in a string.\n",
    "new_word = \"Hey my name is azman\"\n",
    "new_word.count(\"a\")"
   ]
  },
  {
   "cell_type": "code",
   "execution_count": 13,
   "id": "3ae6ab25-53f4-409a-a479-0a7ebbdb0073",
   "metadata": {},
   "outputs": [
    {
     "data": {
      "text/plain": [
       "2"
      ]
     },
     "execution_count": 13,
     "metadata": {},
     "output_type": "execute_result"
    }
   ],
   "source": [
    "#12. Find the first occurrence of a word in a string.\n",
    "new_word = \"Hey my name is azman\"\n",
    "new_word.find(\"y\")\n"
   ]
  },
  {
   "cell_type": "code",
   "execution_count": 14,
   "id": "d9d1b6b8-a355-4ce9-b249-41882c531982",
   "metadata": {},
   "outputs": [
    {
     "data": {
      "text/plain": [
       "5"
      ]
     },
     "execution_count": 14,
     "metadata": {},
     "output_type": "execute_result"
    }
   ],
   "source": [
    "#13. Find the last occurrence of a word in a string.\n",
    "new_word = \"Hey my name is azman\"\n",
    "#rfind return the highest index where the string is found \n",
    "new_word.rfind(\"y\")\n"
   ]
  },
  {
   "cell_type": "code",
   "execution_count": 15,
   "id": "2df28962-af46-4c42-bc88-c4211ca26393",
   "metadata": {},
   "outputs": [
    {
     "name": "stdout",
     "output_type": "stream",
     "text": [
      "['H', 'e', 'y', ' ', 'm', 'y', ' ', 'n', 'a', 'm', 'e', ' ', 'i', 's', ' ', 'a', 'z', 'm', 'a', 'n']\n"
     ]
    }
   ],
   "source": [
    "#14. Split a string into a list of words.\n",
    "new_word = \"Hey my name is azman\"\n",
    "s_split = list(new_word)\n",
    "print(s_split)"
   ]
  },
  {
   "cell_type": "code",
   "execution_count": 16,
   "id": "d3c436d9-33f3-48bd-8840-a8ea20eac6eb",
   "metadata": {},
   "outputs": [
    {
     "data": {
      "text/plain": [
       "'Azmankhan'"
      ]
     },
     "execution_count": 16,
     "metadata": {},
     "output_type": "execute_result"
    }
   ],
   "source": [
    "#15. Join a list of words into a string.\n",
    "string = \"Azman\" \"khan\" \n",
    "\"\".join(string)"
   ]
  },
  {
   "cell_type": "code",
   "execution_count": 17,
   "id": "8dfbbc48-b11b-409c-950c-54ac7ce541c5",
   "metadata": {},
   "outputs": [
    {
     "data": {
      "text/plain": [
       "'This_is_the_data_science_course'"
      ]
     },
     "execution_count": 17,
     "metadata": {},
     "output_type": "execute_result"
    }
   ],
   "source": [
    "#16. Convert a string where words are separated by spaces to one where words\n",
    "#are separated by underscores.\n",
    "\n",
    "string = \"This is the data science course \"\n",
    "s = string.split()\n",
    "\"_\".join(s)"
   ]
  },
  {
   "cell_type": "code",
   "execution_count": 18,
   "id": "e6553ef4-c72c-42c0-94a6-57c7847b01ff",
   "metadata": {},
   "outputs": [
    {
     "data": {
      "text/plain": [
       "True"
      ]
     },
     "execution_count": 18,
     "metadata": {},
     "output_type": "execute_result"
    }
   ],
   "source": [
    "#17. Check if a string starts with a specific word or phrase.\n",
    "string = \"this is data science course\"\n",
    "string.startswith(\"this\")\n"
   ]
  },
  {
   "cell_type": "code",
   "execution_count": 19,
   "id": "52f57984-f50d-455f-b999-76f003268e60",
   "metadata": {},
   "outputs": [
    {
     "data": {
      "text/plain": [
       "True"
      ]
     },
     "execution_count": 19,
     "metadata": {},
     "output_type": "execute_result"
    }
   ],
   "source": [
    "#18. Check if a string ends with a specific word or phrase.\n",
    "string = \"this is data science course\"\n",
    "string.endswith(\"course\")"
   ]
  },
  {
   "cell_type": "code",
   "execution_count": 20,
   "id": "dc04fe34-cfd8-4e1b-8311-9a5cdbd5b26b",
   "metadata": {},
   "outputs": [
    {
     "data": {
      "text/plain": [
       "'Hello World'"
      ]
     },
     "execution_count": 20,
     "metadata": {},
     "output_type": "execute_result"
    }
   ],
   "source": [
    "#19. Convert a string to title case (e.g., \"hello world\" to \"Hello World\").\n",
    "new_string = \"hello world\"\n",
    "new_string.title()"
   ]
  },
  {
   "cell_type": "code",
   "execution_count": 21,
   "id": "c996ae9d-642d-44cd-a530-a2d51d029bad",
   "metadata": {},
   "outputs": [
    {
     "data": {
      "text/plain": [
       "'longest'"
      ]
     },
     "execution_count": 21,
     "metadata": {},
     "output_type": "execute_result"
    }
   ],
   "source": [
    "#20 Find the longest word in a string.\n",
    "word =\" find the longest word in the string\"\n",
    "#by using max function we can find the longest string :\n",
    "longest_word = max(word.split(),key=len)\n",
    "longest_word"
   ]
  },
  {
   "cell_type": "code",
   "execution_count": 22,
   "id": "60e1bed9-a0d7-4e3b-a609-8640c5e2a6d1",
   "metadata": {},
   "outputs": [
    {
     "data": {
      "text/plain": [
       "'in'"
      ]
     },
     "execution_count": 22,
     "metadata": {},
     "output_type": "execute_result"
    }
   ],
   "source": [
    "#21. Find the shortest word in a string.\n",
    "word =\" find the longest word in the string\"\n",
    "#by using min function we can find the longest string :\n",
    "shortest_word = min(word.split(),key=len)\n",
    "shortest_word\n"
   ]
  },
  {
   "cell_type": "code",
   "execution_count": 23,
   "id": "2ca75f97-9320-4e38-994e-b06671156901",
   "metadata": {},
   "outputs": [
    {
     "data": {
      "text/plain": [
       "'string reverse the is This'"
      ]
     },
     "execution_count": 23,
     "metadata": {},
     "output_type": "execute_result"
    }
   ],
   "source": [
    "#22. Reverse the order of words in a string.\n",
    "input_string = \"This is the reverse string \"\n",
    "#spliting the string \n",
    "word =input_string.split()\n",
    "#reverse the splitted string \n",
    "reverse_word = word[::-1]\n",
    "#join the reverse splited string\n",
    "reverse_string = \" \".join(reverse_word)\n",
    "reverse_string\n"
   ]
  },
  {
   "cell_type": "code",
   "execution_count": null,
   "id": "bd7609b8-a280-4cdf-8981-654ff9bb641d",
   "metadata": {},
   "outputs": [],
   "source": []
  },
  {
   "cell_type": "code",
   "execution_count": 24,
   "id": "36bbb931-6c80-411c-90cb-e6a7a1dfa449",
   "metadata": {},
   "outputs": [
    {
     "name": "stdin",
     "output_type": "stream",
     "text": [
      " hekkoe\n"
     ]
    },
    {
     "data": {
      "text/plain": [
       "True"
      ]
     },
     "execution_count": 24,
     "metadata": {},
     "output_type": "execute_result"
    }
   ],
   "source": [
    "#23. Check if a string is alphanumeric.\n",
    "input_string = input()\n",
    "input_string.isalnum()\n"
   ]
  },
  {
   "cell_type": "code",
   "execution_count": 25,
   "id": "54a53be4-d4c9-4091-8684-557c58da5c1c",
   "metadata": {},
   "outputs": [
    {
     "name": "stdin",
     "output_type": "stream",
     "text": [
      " 13 jkd\n"
     ]
    },
    {
     "data": {
      "text/plain": [
       "2"
      ]
     },
     "execution_count": 25,
     "metadata": {},
     "output_type": "execute_result"
    }
   ],
   "source": [
    "#24. Extract all digits from a string.\n",
    "input_str = input()\n",
    "#filter function is used to filter out all the digit\n",
    "# isdigit function is used to trace all the digit\n",
    "alpha = \"\".join(filter(str.isdigit , input_str))\n",
    "len(alpha)"
   ]
  },
  {
   "cell_type": "code",
   "execution_count": 26,
   "id": "640ce6a4-a2f4-455f-9e72-08a33c594966",
   "metadata": {},
   "outputs": [
    {
     "name": "stdin",
     "output_type": "stream",
     "text": [
      " djheehehe \n"
     ]
    },
    {
     "data": {
      "text/plain": [
       "9"
      ]
     },
     "execution_count": 26,
     "metadata": {},
     "output_type": "execute_result"
    }
   ],
   "source": [
    "#25. Extract all alphabets from a string.\n",
    "input_str = input()\n",
    "#filter function is used to filter out all the alphabet\n",
    "alpha = \"\".join(filter(str.isalpha , input_str))\n",
    "len(alpha)"
   ]
  },
  {
   "cell_type": "code",
   "execution_count": 27,
   "id": "572ee705-485a-4524-a7b8-8336da1d8c49",
   "metadata": {},
   "outputs": [
    {
     "name": "stdout",
     "output_type": "stream",
     "text": [
      "Number of uppercase letters: 3\n"
     ]
    }
   ],
   "source": [
    "#26. Count the number of uppercase letters in a string.\n",
    "input_string = \"Hello WorlD\"\n",
    "uppercase_count = sum(map(str.isupper, input_string))\n",
    "print(\"Number of uppercase letters:\", uppercase_count)\n",
    "\n"
   ]
  },
  {
   "cell_type": "code",
   "execution_count": 28,
   "id": "ec7359d7-8563-480c-9909-52d114348b2e",
   "metadata": {},
   "outputs": [
    {
     "name": "stdout",
     "output_type": "stream",
     "text": [
      "Number of lowercase letters: 7\n"
     ]
    }
   ],
   "source": [
    "#27. Count the number of lowercase letters in a string.\n",
    "input_string = \"Hello WorlD\"\n",
    "lowercase_count = sum(map(str.islower, input_string))\n",
    "print(\"Number of lowercase letters:\", lowercase_count)\n",
    "\n"
   ]
  },
  {
   "cell_type": "code",
   "execution_count": 29,
   "id": "2a22b121-e3f6-4cdb-9472-aa890cde0096",
   "metadata": {},
   "outputs": [
    {
     "data": {
      "text/plain": [
       "'hELLO wORLd'"
      ]
     },
     "execution_count": 29,
     "metadata": {},
     "output_type": "execute_result"
    }
   ],
   "source": [
    "#28. Swap the case of each character in a string.\n",
    "input_string = \"Hello WorlD\" \n",
    "input_string.swapcase()"
   ]
  },
  {
   "cell_type": "code",
   "execution_count": 30,
   "id": "7a1e8509-0e80-4d14-b52f-9ac20a345d29",
   "metadata": {},
   "outputs": [
    {
     "data": {
      "text/plain": [
       "'  World My Name '"
      ]
     },
     "execution_count": 30,
     "metadata": {},
     "output_type": "execute_result"
    }
   ],
   "source": [
    "#29. Remove a specific word from a string.\n",
    "input_string = \"Hello  World My Name \"\n",
    "input_string.replace(\"Hello\" ,\"\")"
   ]
  },
  {
   "cell_type": "code",
   "execution_count": 31,
   "id": "694e277b-dde9-4653-845d-139a93463611",
   "metadata": {},
   "outputs": [
    {
     "name": "stdout",
     "output_type": "stream",
     "text": [
      "True\n",
      "False\n"
     ]
    }
   ],
   "source": [
    "#30. Check if a string is a valid email address.\n",
    "import re  # Import the regular expression module\n",
    "\n",
    "def is_valid_email(email):\n",
    "    pattern = r'^[\\w\\.-]+@[\\w\\.-]+\\.\\w+$'  # Regular expression pattern for a basic email validation\n",
    "    if re.match(pattern, email):\n",
    "        return True\n",
    "    else:\n",
    "        return False\n",
    "\n",
    "# Example email addresses\n",
    "email1 = \"example@email.com\"\n",
    "email2 = \"invalid-email\"\n",
    "result1 = is_valid_email(email1)\n",
    "result2 = is_valid_email(email2)\n",
    "print(result1)\n",
    "print(result2)"
   ]
  },
  {
   "cell_type": "code",
   "execution_count": 33,
   "id": "5c506158-5ebe-4d3d-aacb-335160e923c6",
   "metadata": {},
   "outputs": [
    {
     "name": "stdout",
     "output_type": "stream",
     "text": [
      "https://www.example.com is a valid URL\n"
     ]
    }
   ],
   "source": [
    "from urllib.parse import urlparse\n",
    "#urlparse is a function to parse the input\n",
    "def is_valid_url(url):\n",
    "    try:\n",
    "        result = urlparse(url)\n",
    "        return all([result.scheme, result.netloc])\n",
    "    except ValueError:\n",
    "        return False\n",
    "\n",
    "# Test the function\n",
    "url = \"https://www.example.com\"\n",
    "if is_valid_url(url):\n",
    "    print(f\"{url} is a valid URL\")\n",
    "else:\n",
    "    print(f\"{url} is not a valid URL\")\n"
   ]
  },
  {
   "cell_type": "code",
   "execution_count": 34,
   "id": "7967039b-d559-4943-b79d-87b9bddffca8",
   "metadata": {},
   "outputs": [
    {
     "name": "stdin",
     "output_type": "stream",
     "text": [
      "enter a valid url http://djhhd\n"
     ]
    },
    {
     "name": "stdout",
     "output_type": "stream",
     "text": [
      "http\n"
     ]
    }
   ],
   "source": [
    "#35. Extract the protocol (http or https) from a URL string.\n",
    "input_protocol = input(\"enter a valid url\")\n",
    "#url.split(\":\", 1) means split to only '1' colon\n",
    "parts = input_protocol.split(\":\",1)\n",
    "if len(parts) > 1 and parts [0] in (\"http\" , \"https\") :\n",
    "    print( parts[0])\n",
    "else :\n",
    "    print(\"no protocol found\")\n"
   ]
  },
  {
   "cell_type": "code",
   "execution_count": 35,
   "id": "64f2157d-8785-41be-80c3-5ff024b1695e",
   "metadata": {},
   "outputs": [
    {
     "name": "stdin",
     "output_type": "stream",
     "text": [
      "enter something  hello wrold\n"
     ]
    },
    {
     "name": "stdout",
     "output_type": "stream",
     "text": [
      "{'h': 1, 'e': 1, 'l': 3, 'o': 2, ' ': 1, 'w': 1, 'r': 1, 'd': 1}\n"
     ]
    }
   ],
   "source": [
    "#36. Find the frequency of each character in a string.\n",
    "\n",
    "inp_str = input(\"enter something \")\n",
    "frequency = {}\n",
    "for char in inp_str :\n",
    "    if char in frequency :\n",
    "        frequency[char]+= 1\n",
    "    else :\n",
    "        frequency[char] =1\n",
    "print(frequency)"
   ]
  },
  {
   "cell_type": "code",
   "execution_count": 36,
   "id": "ee7ab4a1-ec24-45bd-a991-cd50c2eda502",
   "metadata": {},
   "outputs": [
    {
     "name": "stdin",
     "output_type": "stream",
     "text": [
      "enter a string what? this is python!\n"
     ]
    },
    {
     "name": "stdout",
     "output_type": "stream",
     "text": [
      "what this is python\n"
     ]
    }
   ],
   "source": [
    "#37. Remove all punctuation from a string.\n",
    "punctuation = \"!@#$%^&*()_+<>?:.,/;\"  # add whatever you want\n",
    "\n",
    "s = input(\"enter a string\") \n",
    "for punch in s:\n",
    "    if punch in punctuation:\n",
    "        s = s.replace(punch, \"\")\n",
    "\n",
    "print(s)"
   ]
  },
  {
   "cell_type": "code",
   "execution_count": 37,
   "id": "88a4610a-ffd9-42a6-86b2-548ba94f0ad7",
   "metadata": {},
   "outputs": [
    {
     "name": "stdin",
     "output_type": "stream",
     "text": [
      " 12344mfk\n"
     ]
    },
    {
     "name": "stdout",
     "output_type": "stream",
     "text": [
      "False\n"
     ]
    }
   ],
   "source": [
    "#38. Check if a string contains only digits.\n",
    "input_str = input()\n",
    "if input_str.isdigit():\n",
    "    print(True)\n",
    "else :\n",
    "    print(False)"
   ]
  },
  {
   "cell_type": "code",
   "execution_count": 38,
   "id": "3ca8c7b5-5abe-401a-b21c-5bacf11b3c47",
   "metadata": {},
   "outputs": [
    {
     "name": "stdin",
     "output_type": "stream",
     "text": [
      " kdjdjd\n"
     ]
    },
    {
     "name": "stdout",
     "output_type": "stream",
     "text": [
      "True\n"
     ]
    }
   ],
   "source": [
    "#38. Check if a string contains only digits.\n",
    "input_str = input()\n",
    "if input_str.isalpha():\n",
    "    print(True)\n",
    "else :\n",
    "    print(False)"
   ]
  },
  {
   "cell_type": "code",
   "execution_count": 39,
   "id": "03d4982e-b4f6-4de7-a07a-1b3786753cc7",
   "metadata": {},
   "outputs": [
    {
     "name": "stdin",
     "output_type": "stream",
     "text": [
      "input somethin hello world\n"
     ]
    },
    {
     "name": "stdout",
     "output_type": "stream",
     "text": [
      "['h', 'e', 'l', 'l', 'o', ' ', 'w', 'o', 'r', 'l', 'd']\n"
     ]
    }
   ],
   "source": [
    "#40. Convert a string to a list of characters.\n",
    "string = list(input(\"input somethin\"))\n",
    "print(string)\n"
   ]
  },
  {
   "cell_type": "code",
   "execution_count": 41,
   "id": "3c8b3c36-e8e6-4132-ae9d-864f05a906a0",
   "metadata": {},
   "outputs": [
    {
     "name": "stdin",
     "output_type": "stream",
     "text": [
      " listen\n",
      " silent\n"
     ]
    },
    {
     "name": "stdout",
     "output_type": "stream",
     "text": [
      "True\n"
     ]
    }
   ],
   "source": [
    "#41. Check if two strings are anagrams.\n",
    "string1  =input()\n",
    "string2 =input()\n",
    "if sorted(string1) == sorted(string2) :\n",
    "    print(True)\n",
    "else:\n",
    "    print(False)"
   ]
  },
  {
   "cell_type": "code",
   "execution_count": 47,
   "id": "569ffa74-039f-4872-b370-c6748d5189c0",
   "metadata": {},
   "outputs": [
    {
     "name": "stdout",
     "output_type": "stream",
     "text": [
      "Encoded text: ehoor, zruog!\n"
     ]
    }
   ],
   "source": [
    "#42. Encode a string using a Caesar cipher.\n",
    "# Define a function named caesar_cipher that encodes a string using a Caesar cipher.\n",
    "def caesar_cipher(text, shift):\n",
    "  \"\"\"\n",
    "  Encodes a string using a Caesar cipher.\n",
    "\n",
    "  Args:\n",
    "    text: The string to encode.\n",
    "    shift: The number of positions to shift each letter.\n",
    "\n",
    "  Returns:\n",
    "    The encoded string.\n",
    "  \"\"\"\n",
    "\n",
    "  # Initialize an empty string to store the encoded text.\n",
    "  encoded_text = \"\"\n",
    "\n",
    "  # Iterate through each character in the input text.\n",
    "  for char in text:\n",
    "    # Check if the character is alphabetic.\n",
    "    if char.isalpha():\n",
    "      # Calculate the encoded character's Unicode code point value by shifting it by the specified amount.\n",
    "      # Ensure the value wraps around within the lowercase alphabet range (a-z).\n",
    "      encoded_char = chr((ord(char) + shift - ord('a')) % 26 + ord('a'))\n",
    "    else:\n",
    "      # Keep non-alphabetic characters unchanged.\n",
    "      encoded_char = char\n",
    "\n",
    "    # Add the encoded character to the encoded text.\n",
    "    encoded_text += encoded_char\n",
    "\n",
    "  # Return the resulting encoded text.\n",
    "  return encoded_text\n",
    "\n",
    "# Define the input text and the shift value for encoding.\n",
    "text = \"Hello, world!\"\n",
    "shift = 3\n",
    "\n",
    "# Call the caesar_cipher function to encode the text using the specified shift.\n",
    "encoded_text = caesar_cipher(text, shift)\n",
    "\n",
    "# Print the encoded text.\n",
    "print(\"Encoded text:\", encoded_text)"
   ]
  },
  {
   "cell_type": "code",
   "execution_count": 43,
   "id": "cba62762-35ac-42c5-9544-fd54a4e90ae5",
   "metadata": {},
   "outputs": [
    {
     "name": "stdout",
     "output_type": "stream",
     "text": [
      "Decoded text: ilmm, world!\n"
     ]
    }
   ],
   "source": [
    "#43. Decode a Caesar cipher encoded string.\n",
    "def caesar_cipher_decoder(text, shift):\n",
    "    \"\"\"\n",
    "    Decodes a string using a Caesar cipher.\n",
    "\n",
    "    Args:\n",
    "        text: The string to decode.\n",
    "        shift: The number of positions to shift each letter.\n",
    "\n",
    "    Returns:\n",
    "        The decoded string.\n",
    "    \"\"\"\n",
    "\n",
    "    # Initialize an empty string to store the decoded text\n",
    "    decoded_text = \"\"\n",
    "\n",
    "    # Loop through each character in the input text\n",
    "    for char in text:\n",
    "        # Check if the character is an alphabetic character\n",
    "        if char.isalpha():\n",
    "            # Calculate the decoded character using the shift value\n",
    "            decoded_char = chr((ord(char) - shift - ord('a')) % 26 + ord('a'))\n",
    "        else:\n",
    "            # If the character is not alphabetic, keep it unchanged\n",
    "            decoded_char = char\n",
    "\n",
    "        # Add the decoded character to the decoded text\n",
    "        decoded_text += decoded_char\n",
    "\n",
    "    # Return the fully decoded text\n",
    "    return decoded_text\n",
    "\n",
    "# Example input\n",
    "text = \"lopp, zruog!\"\n",
    "shift = 3\n",
    "\n",
    "# Call the caesar_cipher_decoder function to decode the input text\n",
    "decoded_text = caesar_cipher_decoder(text, shift)\n",
    "\n",
    "# Print the decoded text\n",
    "print(\"Decoded text:\", decoded_text)"
   ]
  },
  {
   "cell_type": "code",
   "execution_count": 49,
   "id": "49aca1bc-1549-4519-b092-838a4e9a89a5",
   "metadata": {},
   "outputs": [
    {
     "name": "stdout",
     "output_type": "stream",
     "text": [
      "Most frequent word: hello\n"
     ]
    }
   ],
   "source": [
    "#44\n",
    "import re\n",
    "from collections import Counter\n",
    "\n",
    "def most_frequent_word(input_string):\n",
    "    # Remove punctuation and convert to lowercase\n",
    "    clean_string = re.sub(r'[^\\w\\s]', '', input_string).lower()\n",
    "\n",
    "    # Split the string into words\n",
    "    words = clean_string.split()\n",
    "\n",
    "    # Use Counter to count word frequencies\n",
    "    word_counter = Counter(words)\n",
    "\n",
    "    # Find the most common word\n",
    "    most_common_word = word_counter.most_common(1)[0][0]\n",
    "    return most_common_word\n",
    "\n",
    "# Example string\n",
    "input_str = \"Hello world, hello there! How's the world?\"\n",
    "\n",
    "# Find the most frequent word\n",
    "most_common = most_frequent_word(input_str)\n",
    "\n",
    "# Print the result\n",
    "print(\"Most frequent word:\", most_common)"
   ]
  },
  {
   "cell_type": "code",
   "execution_count": 50,
   "id": "c82ade0d-dd86-45f5-9604-e6c0a7807eed",
   "metadata": {},
   "outputs": [
    {
     "name": "stdin",
     "output_type": "stream",
     "text": [
      "type anything  my name is azman and testing is my \n"
     ]
    },
    {
     "name": "stdout",
     "output_type": "stream",
     "text": [
      "{'name', 'is', 'and', 'my', 'azman', 'testing'}\n"
     ]
    }
   ],
   "source": [
    "#45Find all unique words in a string.'\n",
    "input_string  =input(\"type anything \")\n",
    "string = input_string.split()\n",
    "new_string = set(string)\n",
    "print(new_string)"
   ]
  },
  {
   "cell_type": "code",
   "execution_count": 1,
   "id": "f8a66729-0b60-4082-86ef-1b0d3303ae1a",
   "metadata": {},
   "outputs": [
    {
     "name": "stdout",
     "output_type": "stream",
     "text": [
      "'hello' has 2 syllables.\n",
      "'banana' has 3 syllables.\n",
      "'syllable' has 3 syllables.\n"
     ]
    }
   ],
   "source": [
    "#46\n",
    "import re\n",
    "\n",
    "def count_syllables(word):\n",
    "    # Count vowel groups using regular expression\n",
    "    vowel_groups = re.findall(r'[aeiouy]+', word, re.IGNORECASE)\n",
    "\n",
    "    return len(vowel_groups)\n",
    "\n",
    "# Example words\n",
    "word1 = \"hello\"\n",
    "word2 = \"banana\"\n",
    "word3 = \"syllable\"\n",
    "\n",
    "# Count syllables\n",
    "syllables1 = count_syllables(word1)\n",
    "syllables2 = count_syllables(word2)\n",
    "syllables3 = count_syllables(word3)\n",
    "\n",
    "# Print the results\n",
    "print(f\"'{word1}' has {syllables1} syllables.\")\n",
    "print(f\"'{word2}' has {syllables2} syllables.\")\n",
    "print(f\"'{word3}' has {syllables3} syllables.\")"
   ]
  },
  {
   "cell_type": "code",
   "execution_count": 2,
   "id": "337c2cca-ee0d-4269-8bf3-c647bbb17cdb",
   "metadata": {},
   "outputs": [
    {
     "name": "stdout",
     "output_type": "stream",
     "text": [
      "'Hello, world!' contains special characters: True\n",
      "'This is a test.' contains special characters: True\n",
      "'Special@Characters' contains special characters: True\n"
     ]
    }
   ],
   "source": [
    "#47 \n",
    "def contains_special_characters(input_string):\n",
    "    # Define a regular expression pattern to match special characters\n",
    "    pattern = re.compile(r'[!@#$%^&*()_+{}\\[\\]:;<>,.?~\\\\/]')\n",
    "\n",
    "    # Use the search() method to find a match\n",
    "    match = pattern.search(input_string)\n",
    "\n",
    "    # Return True if a match is found, False otherwise\n",
    "    return bool(match)\n",
    "\n",
    "# Example strings\n",
    "string1 = \"Hello, world!\"\n",
    "string2 = \"This is a test.\"\n",
    "string3 = \"Special@Characters\"\n",
    "\n",
    "# Check if strings contain special characters\n",
    "result1 = contains_special_characters(string1)\n",
    "result2 = contains_special_characters(string2)\n",
    "result3 = contains_special_characters(string3)\n",
    "\n",
    "# Print the results\n",
    "print(f\"'{string1}' contains special characters:\", result1)\n",
    "print(f\"'{string2}' contains special characters:\", result2)\n",
    "print(f\"'{string3}' contains special characters:\", result3)"
   ]
  },
  {
   "cell_type": "code",
   "execution_count": 27,
   "id": "c77c46ef-83b8-40db-8c9f-21ba656a81d5",
   "metadata": {},
   "outputs": [
    {
     "name": "stdin",
     "output_type": "stream",
     "text": [
      " azman khan data science \n",
      " data\n"
     ]
    },
    {
     "name": "stdout",
     "output_type": "stream",
     "text": [
      "['azman', 'khan', '', 'science']\n"
     ]
    }
   ],
   "source": [
    "#48. Remove the nth word from a string.\n",
    "input_str = input()\n",
    "nth_word = input()\n",
    "new = str(input_str.split())\n",
    "word = new.replace(nth_word ,\"\")\n",
    "print (word)\n"
   ]
  },
  {
   "cell_type": "code",
   "execution_count": 28,
   "id": "dd7bfc05-fc8f-4120-bd26-75e5aaa41e69",
   "metadata": {},
   "outputs": [
    {
     "name": "stdout",
     "output_type": "stream",
     "text": [
      "This is a sentence to test the function.\n"
     ]
    }
   ],
   "source": [
    "def remove_nth_word(input_string, n):\n",
    "    # Split the input string into words using space as a delimiter\n",
    "    words = input_string.split()\n",
    "\n",
    "    # Check if n is a valid index (0 <= n < len(words))\n",
    "    if n >= 0 and n < len(words):\n",
    "        # Remove the nth word\n",
    "        words.pop(n)\n",
    "\n",
    "        # Join the remaining words back into a single string\n",
    "        result_string = ' '.join(words)\n",
    "\n",
    "        return result_string\n",
    "    else:\n",
    "        # If n is out of range, return the original string\n",
    "        return input_string\n",
    "\n",
    "# Example usage:\n",
    "input_string = \"This is a sample sentence to test the function.\"\n",
    "n = 3  # Remove the 4th word (0-based index)\n",
    "result = remove_nth_word(input_string, n)\n",
    "print(result)\n"
   ]
  },
  {
   "cell_type": "code",
   "execution_count": 30,
   "id": "92af64fc-7335-4ca6-9e6a-ce4eb9f9dfa7",
   "metadata": {},
   "outputs": [
    {
     "name": "stdout",
     "output_type": "stream",
     "text": [
      "This is a new sample sentence to test the function.\n"
     ]
    }
   ],
   "source": [
    "#49. Insert a word at the nth position in a string.\n",
    "def insert_word_at_nth_position(input_string, n, word_to_insert):\n",
    "    # Split the input string into words using space as a delimiter\n",
    "    words = input_string.split()\n",
    "\n",
    "    # Check if n is a valid index (0 <= n <= len(words))\n",
    "    if n >= 0 and n <= len(words):\n",
    "        # Insert the new word at the nth position\n",
    "        words.insert(n, word_to_insert)\n",
    "\n",
    "        # Join the words back into a single string\n",
    "        result_string = ' '.join(words)\n",
    "\n",
    "        return result_string\n",
    "    else:\n",
    "        # If n is out of range, return the original string\n",
    "        return input_string\n",
    "\n",
    "# Example usage:\n",
    "input_string = \"This is a sample sentence to test the function.\"\n",
    "n = 3  # Insert a word at the 4th position (0-based index)\n",
    "word_to_insert = \"new\"\n",
    "result = insert_word_at_nth_position(input_string, n, word_to_insert)\n",
    "print(result)\n"
   ]
  },
  {
   "cell_type": "code",
   "execution_count": 31,
   "id": "ac140804-bd78-4fc8-89b4-74888e9afff1",
   "metadata": {},
   "outputs": [
    {
     "name": "stdout",
     "output_type": "stream",
     "text": [
      "['Name', ' Age', ' Country']\n",
      "['John', ' 25', ' USA']\n",
      "['Alice', ' 30', ' Canada']\n",
      "['Bob', ' 22', ' UK']\n"
     ]
    }
   ],
   "source": [
    "#50. Convert a CSV string to a list of lists.\n",
    "def csv_string_to_list(csv_string):\n",
    "    # Split the CSV string into lines\n",
    "    lines = csv_string.split('\\n')\n",
    "\n",
    "    # Initialize an empty list to store the result\n",
    "    result = []\n",
    "\n",
    "    for line in lines:\n",
    "        # Split each line into fields using comma as the delimiter\n",
    "        fields = line.split(',')\n",
    "\n",
    "        # Append the fields to the result list as a row\n",
    "        result.append(fields)\n",
    "\n",
    "    return result\n",
    "\n",
    "# Example CSV string\n",
    "csv_data = \"Name, Age, Country\\nJohn, 25, USA\\nAlice, 30, Canada\\nBob, 22, UK\"\n",
    "\n",
    "# Convert CSV string to a list of lists\n",
    "list_of_lists = csv_string_to_list(csv_data)\n",
    "\n",
    "# Print the result\n",
    "for row in list_of_lists:\n",
    "    print(row)"
   ]
  },
  {
   "cell_type": "code",
   "execution_count": 36,
   "id": "5f94ba0b-2f99-4da7-9d87-fdae0436c029",
   "metadata": {},
   "outputs": [
    {
     "data": {
      "text/plain": [
       "[1, 2, 3, 4, 5, 6, 7, 8, 9, 10]"
      ]
     },
     "execution_count": 36,
     "metadata": {},
     "output_type": "execute_result"
    }
   ],
   "source": [
    "#1. Create a list with integers from 1 to 10.\n",
    "new = list(range(1,11))\n",
    "new\n"
   ]
  },
  {
   "cell_type": "code",
   "execution_count": 45,
   "id": "5233dec2-e4aa-49d7-a5f9-95350e9e5545",
   "metadata": {},
   "outputs": [
    {
     "name": "stdout",
     "output_type": "stream",
     "text": [
      "16\n"
     ]
    }
   ],
   "source": [
    "#2. Find the length of a list without using the `len()` function.\n",
    "def new_list(my_list):\n",
    "    count = 0\n",
    "    for length in my_list :\n",
    "        count +=1\n",
    "    return count \n",
    "\n",
    "my_list = [1,2,3,4,5,6,7,8,9,10,11,23,4,5,6,7]\n",
    "find_len = new_list(my_list)\n",
    "print (find_len)\n"
   ]
  },
  {
   "cell_type": "code",
   "execution_count": 4,
   "id": "1107bbda-3fde-4d87-a89a-7e230aecd4a7",
   "metadata": {},
   "outputs": [
    {
     "data": {
      "text/plain": [
       "[1, 2, 3, 4, 5, 6, 7, 8, 9, 0]"
      ]
     },
     "execution_count": 4,
     "metadata": {},
     "output_type": "execute_result"
    }
   ],
   "source": [
    "#3. Append an element to the end of a list.\n",
    "new_list = [1,2,3,4,5,6,7,8,9]\n",
    "new_list.append(0)\n",
    "new_list"
   ]
  },
  {
   "cell_type": "code",
   "execution_count": 16,
   "id": "a9509339-d370-4969-a94c-8232a8f27bcf",
   "metadata": {},
   "outputs": [
    {
     "name": "stdin",
     "output_type": "stream",
     "text": [
      "enter element  14\n",
      "enter the index 5\n"
     ]
    },
    {
     "name": "stdout",
     "output_type": "stream",
     "text": [
      "Updated list: [10, 20, 30, 40, 50, 14]\n"
     ]
    }
   ],
   "source": [
    "#4. Insert an element at a specific index in a list.\n",
    "my_list = [10, 20, 30, 40, 50]\n",
    "\n",
    "# Element to insert\n",
    "new_element = int(input(\"enter element \"))\n",
    "\n",
    "# Index at which to insert the element\n",
    "index = int(input(\"enter the index\"))\n",
    "\n",
    "# Insert the new element at the specified index\n",
    "my_list.insert(index, new_element)\n",
    "\n",
    "# Print the updated list\n",
    "print(\"Updated list:\", my_list)"
   ]
  },
  {
   "cell_type": "code",
   "execution_count": 28,
   "id": "e3909dc8-3b4e-49b5-a988-d60560b1a3d8",
   "metadata": {},
   "outputs": [
    {
     "name": "stdout",
     "output_type": "stream",
     "text": [
      "[1, 2, 4, 5, 6, 7, 8, 9]\n"
     ]
    }
   ],
   "source": [
    "#5. Remove an element from a list by its value.\n",
    "new_list = [1,2,3,4,5,6,7,8,9]\n",
    "second = new_list.remove(3)\n",
    "print(new_list)\n"
   ]
  },
  {
   "cell_type": "code",
   "execution_count": 26,
   "id": "5d5f969f-16c5-47a2-bf86-4256049980fe",
   "metadata": {},
   "outputs": [
    {
     "name": "stdout",
     "output_type": "stream",
     "text": [
      "[1, 2, 3, 5, 6, 7, 8, 9] removed element is : 4\n"
     ]
    }
   ],
   "source": [
    "#6. Remove an element from a list by its index.\n",
    "new_list = [1,2,3,4,5,6,7,8,9]\n",
    "second = new_list.pop(3)\n",
    "print(new_list,\"removed element is :\",second)\n"
   ]
  },
  {
   "cell_type": "code",
   "execution_count": 2,
   "id": "2c6b3980-461a-43ff-a962-8c51ddccc2ff",
   "metadata": {},
   "outputs": [
    {
     "name": "stdin",
     "output_type": "stream",
     "text": [
      " 10\n"
     ]
    },
    {
     "name": "stdout",
     "output_type": "stream",
     "text": [
      "element not present \n"
     ]
    }
   ],
   "source": [
    "#7. Check if an element exists in a list.\n",
    "new_list = [1,2,3,4,5,6,7,8,9]\n",
    "element_to_check = int(input())\n",
    "if element_to_check in new_list:\n",
    "    print(True)\n",
    "else :\n",
    "    print(\"element not present \")"
   ]
  },
  {
   "cell_type": "code",
   "execution_count": 4,
   "id": "635e5acf-dd9e-406e-b7ea-73fdabba99e3",
   "metadata": {},
   "outputs": [
    {
     "name": "stdout",
     "output_type": "stream",
     "text": [
      "the index of : 30 is  2\n"
     ]
    }
   ],
   "source": [
    "#8. Find the index of the first occurrence of an element in a list.\n",
    "my_list = [10, 20, 30, 40, 50, 30]\n",
    "\n",
    "# Element to find the index of\n",
    "element_to_find = 30\n",
    "\n",
    "# Find the index of the first occurrence of the element\n",
    "index = my_list.index(element_to_find)\n",
    "\n",
    "# Print the index\n",
    "print(\"the index of :\",element_to_find, \"is \",index)"
   ]
  },
  {
   "cell_type": "code",
   "execution_count": 9,
   "id": "b2594df4-b6cf-4bc9-b9df-3702e1d97ab3",
   "metadata": {},
   "outputs": [
    {
     "name": "stdin",
     "output_type": "stream",
     "text": [
      " 30\n"
     ]
    },
    {
     "name": "stdout",
     "output_type": "stream",
     "text": [
      "element 30 is occoured 3 times\n"
     ]
    }
   ],
   "source": [
    "#. Count the occurrences of an element in a list.\n",
    "my_list = [10, 20, 30, 40, 50, 30, 30]\n",
    "\n",
    "# Element to count occurrences of\n",
    "element = int(input())\n",
    "count = my_list.count(element)\n",
    "print(f\"element {element} is occoured {count} times\")"
   ]
  },
  {
   "cell_type": "code",
   "execution_count": 10,
   "id": "4c498e59-726e-44a9-85fa-1df766746375",
   "metadata": {},
   "outputs": [
    {
     "name": "stdout",
     "output_type": "stream",
     "text": [
      "Reversed list: [50, 40, 30, 20, 10]\n"
     ]
    }
   ],
   "source": [
    "# 10. Reverse the order of elements in a list.\n",
    "my_list = [10, 20, 30, 40, 50]\n",
    "\n",
    "# Reverse the order of elements in the list\n",
    "my_list.reverse()\n",
    "print(\"Reversed list:\", my_list)"
   ]
  },
  {
   "cell_type": "code",
   "execution_count": 11,
   "id": "de8e7330-8d87-4c7b-93a0-0a082d6b9446",
   "metadata": {},
   "outputs": [
    {
     "name": "stdout",
     "output_type": "stream",
     "text": [
      "Sorted list in ascending order: [10, 20, 30, 40, 50]\n"
     ]
    }
   ],
   "source": [
    "#11. Sort a list in ascending order.\n",
    "my_list = [50, 10, 30, 40, 20]\n",
    "\n",
    "# Sort the list in ascending order\n",
    "my_list.sort()\n",
    "print(\"Sorted list in ascending order:\", my_list)"
   ]
  },
  {
   "cell_type": "code",
   "execution_count": 12,
   "id": "9e0e1992-3264-4a8c-8141-4de6e816e745",
   "metadata": {},
   "outputs": [
    {
     "name": "stdout",
     "output_type": "stream",
     "text": [
      "Sorted list in descending order: [50, 40, 30, 20, 10]\n"
     ]
    }
   ],
   "source": [
    "#12. Sort a list in descending order.\n",
    "my_list = [50, 10, 30, 40, 20]\n",
    "\n",
    "# Sort the list in descending order\n",
    "my_list.sort(reverse=True)\n",
    "print(\"Sorted list in descending order:\", my_list)"
   ]
  },
  {
   "cell_type": "code",
   "execution_count": 14,
   "id": "eea79620-3d95-47d4-8608-3b66092f3425",
   "metadata": {},
   "outputs": [
    {
     "name": "stdout",
     "output_type": "stream",
     "text": [
      "List of even numbers: [2, 4, 6, 8, 10, 12, 14, 16, 18, 20]\n"
     ]
    }
   ],
   "source": [
    "#13. Create a list of even numbers from 1 to 20.\n",
    "numbers = list(range(2, 21, 2))\n",
    "print(\"List of even numbers:\", numbers)"
   ]
  },
  {
   "cell_type": "code",
   "execution_count": 15,
   "id": "d71be3ca-e362-4851-90d6-a14059087fef",
   "metadata": {},
   "outputs": [
    {
     "name": "stdout",
     "output_type": "stream",
     "text": [
      "List of odd numbers: [1, 3, 5, 7, 9, 11, 13, 15, 17, 19]\n"
     ]
    }
   ],
   "source": [
    "#### 14. Create a list of odd numbers from 1 to 20.\n",
    "numbers = list(range(1,21, 2))\n",
    "print(\"List of odd numbers:\", numbers)"
   ]
  },
  {
   "cell_type": "code",
   "execution_count": 17,
   "id": "6c814f75-2d1e-4d17-a3a4-c2bd44bf67c0",
   "metadata": {},
   "outputs": [
    {
     "name": "stdout",
     "output_type": "stream",
     "text": [
      "sum of the list is  150\n"
     ]
    }
   ],
   "source": [
    "#15. Find the sum of all elements in a list.\n",
    "my_list = [50, 10, 30, 40, 20]\n",
    "summ = sum(my_list)\n",
    "print(\"sum of the list is \" ,summ)"
   ]
  },
  {
   "cell_type": "code",
   "execution_count": 19,
   "id": "dd515c46-f415-4c76-8239-914d62b02d0d",
   "metadata": {},
   "outputs": [
    {
     "name": "stdout",
     "output_type": "stream",
     "text": [
      "the maximum number is 50\n"
     ]
    }
   ],
   "source": [
    "#16. Find the maximum value in a list.\n",
    "my_list = [50, 10, 30, 40, 20]\n",
    "maxi = max(my_list)\n",
    "print(f\"the maximum number is {maxi}\")"
   ]
  },
  {
   "cell_type": "code",
   "execution_count": 20,
   "id": "21b771e9-5e9c-4c18-836f-085cba532127",
   "metadata": {},
   "outputs": [
    {
     "name": "stdout",
     "output_type": "stream",
     "text": [
      "the minimum number is 10\n"
     ]
    }
   ],
   "source": [
    "#17. Find the minimum value in a list.\n",
    "my_list = [50, 10, 30, 40, 20]\n",
    "mini = min(my_list)\n",
    "print(f\"the minimum number is {mini}\")"
   ]
  },
  {
   "cell_type": "code",
   "execution_count": 28,
   "id": "4a30a230-3996-4ccd-9eba-f527aa020cf8",
   "metadata": {},
   "outputs": [
    {
     "name": "stdout",
     "output_type": "stream",
     "text": [
      "List of squares: [1, 4, 9, 16, 25, 36, 49, 64, 81, 100]\n"
     ]
    }
   ],
   "source": [
    "#18. Create a list of squares of numbers from 1 to 10.\n",
    "squares = []\n",
    "for i in range(1, 11):\n",
    "    squares.append(i**2)\n",
    "    \n",
    "print(\"List of squares:\", squares)"
   ]
  },
  {
   "cell_type": "code",
   "execution_count": 31,
   "id": "27c15217-c7dd-4263-8ab2-fa5a9b63d968",
   "metadata": {},
   "outputs": [
    {
     "name": "stdout",
     "output_type": "stream",
     "text": [
      "List of random integers: [37, 36, 43, 82, 67, 20, 76, 51, 8, 68]\n"
     ]
    }
   ],
   "source": [
    "#19. Create a list of random numbers.\n",
    "import random\n",
    "\n",
    "# Create a list of random integers between 1 and 100\n",
    "random_integers = [random.randint(1, 100) for x in range(10)]\n",
    "\n",
    "# Print the list of random integers\n",
    "print(\"List of random integers:\", random_integers)"
   ]
  },
  {
   "cell_type": "code",
   "execution_count": 32,
   "id": "8cb841b9-760c-41f6-8380-e4bddec34689",
   "metadata": {},
   "outputs": [
    {
     "name": "stdout",
     "output_type": "stream",
     "text": [
      "List without duplicates: [40, 10, 50, 20, 30]\n"
     ]
    }
   ],
   "source": [
    "#20. Remove duplicates from a list.\n",
    "my_list = [10, 20, 30, 20, 40, 10, 50, 30]\n",
    "\n",
    "# Remove duplicates by converting to a set and back to a list\n",
    "new = list(set(my_list))\n",
    "\n",
    "print(\"List without duplicates:\", new)"
   ]
  },
  {
   "cell_type": "code",
   "execution_count": 36,
   "id": "5b2cdee0-3c98-4d35-bbab-999d10758dd2",
   "metadata": {},
   "outputs": [
    {
     "name": "stdout",
     "output_type": "stream",
     "text": [
      "[40, 50, 30]\n"
     ]
    }
   ],
   "source": [
    "#21. Find the common elements between two lists.\n",
    "list1 = [10, 20, 30, 40, 50]\n",
    "list2 = [30, 40, 50, 60, 70]\n",
    "\n",
    "set1 = set(list1)\n",
    "set2 = set(list2)\n",
    "common = set1.intersection(set2)\n",
    "print(list(common))"
   ]
  },
  {
   "cell_type": "code",
   "execution_count": 38,
   "id": "5654a9cd-3bad-4ba7-a5a3-462972cad187",
   "metadata": {},
   "outputs": [
    {
     "name": "stdout",
     "output_type": "stream",
     "text": [
      "[10, 20]\n"
     ]
    }
   ],
   "source": [
    "#22. Find the difference between two lists.\n",
    "list1 = [10, 20, 30, 40, 50]\n",
    "list2 = [30, 40, 50, 60, 70]\n",
    "\n",
    "set1 = set(list1)\n",
    "set2 = set(list2)\n",
    "difference = set1.difference(set2)\n",
    "print(list(difference))"
   ]
  },
  {
   "cell_type": "code",
   "execution_count": 40,
   "id": "7c50f546-e162-4958-979e-9665f728e1be",
   "metadata": {},
   "outputs": [
    {
     "name": "stdout",
     "output_type": "stream",
     "text": [
      "[10, 20, 30, 30, 40, 40, 50, 50, 60, 70]\n"
     ]
    }
   ],
   "source": [
    "#23. Merge two lists.\n",
    "list1 = [10, 20, 30, 40, 50]\n",
    "list2 = [30, 40, 50, 60, 70]\n",
    "print(sorted(list1+list2))"
   ]
  },
  {
   "cell_type": "code",
   "execution_count": 41,
   "id": "c93c92bd-9ea4-4ec7-993f-6ff223c54327",
   "metadata": {},
   "outputs": [
    {
     "data": {
      "text/plain": [
       "10000"
      ]
     },
     "execution_count": 41,
     "metadata": {},
     "output_type": "execute_result"
    }
   ],
   "source": [
    "9980+20"
   ]
  },
  {
   "cell_type": "code",
   "execution_count": 46,
   "id": "61da1d38-55e3-4e9c-bcfa-f905d94a6b3c",
   "metadata": {},
   "outputs": [
    {
     "data": {
      "text/plain": [
       "[20, 40, 60, 80, 100]"
      ]
     },
     "execution_count": 46,
     "metadata": {},
     "output_type": "execute_result"
    }
   ],
   "source": [
    "#24. Multiply all elements in a list by 2.\n",
    "list1 = [10, 20, 30, 40, 50]\n",
    "multiply =  [x * 2 for x in list1]\n",
    "multiply "
   ]
  },
  {
   "cell_type": "code",
   "execution_count": 54,
   "id": "4a03be71-75ef-4d0d-a561-4aef459293d1",
   "metadata": {},
   "outputs": [
    {
     "name": "stdout",
     "output_type": "stream",
     "text": [
      "[12, 14, 16, 18, 20]\n"
     ]
    }
   ],
   "source": [
    "#25. Filter out all even numbers from a list.\n",
    "lists = [1,12,13,14,5,16,7,18,19,20]\n",
    "even = [x for x in lists if x % 2 == 0]\n",
    "print(even)\n"
   ]
  },
  {
   "cell_type": "code",
   "execution_count": 13,
   "id": "5d394083-2063-4ea4-96af-c96c6803f5c0",
   "metadata": {},
   "outputs": [
    {
     "data": {
      "text/plain": [
       "[1, 2, 3, 4, 5]"
      ]
     },
     "execution_count": 13,
     "metadata": {},
     "output_type": "execute_result"
    }
   ],
   "source": [
    "#26. Convert a list of strings to a list of integers.\n",
    "string = [\"1\",\"2\",\"3\",\"4\",\"5\"] \n",
    "\n",
    "new_str = [int(x) for x in string]\n",
    "new_str\n",
    "\n",
    "\n"
   ]
  },
  {
   "cell_type": "code",
   "execution_count": 16,
   "id": "a8e55032-ce24-4f1f-91da-678bf09feb8e",
   "metadata": {},
   "outputs": [
    {
     "data": {
      "text/plain": [
       "['1', '12', '13', '14', '5', '16', '7', '18', '19', '20']"
      ]
     },
     "execution_count": 16,
     "metadata": {},
     "output_type": "execute_result"
    }
   ],
   "source": [
    "#7. Convert a list of integers to a list of strings.\n",
    "lists = [1,12,13,14,5,16,7,18,19,20]\n",
    "string = [str(x) for x in lists]\n",
    "string"
   ]
  },
  {
   "cell_type": "code",
   "execution_count": 4,
   "id": "0f07b6b4-b313-4a53-9d0c-bd3077a1d24f",
   "metadata": {},
   "outputs": [
    {
     "name": "stdout",
     "output_type": "stream",
     "text": [
      "Flattened list: [1, 2, 3, 4, 5, 6, 7, 8, 9]\n"
     ]
    }
   ],
   "source": [
    "#28. Flatten a nested list.\n",
    "nested_list = [[1, 2, 3], [4, 5], [6, 7, 8, 9]]\n",
    "# Function to flatten a nested list\n",
    "def flatten_list(nested):\n",
    "    flattened = []\n",
    "    for sublist in nested:\n",
    "        if isinstance(sublist, list):\n",
    "            flattened.extend(flatten_list(sublist))\n",
    "        else:\n",
    "            flattened.append(sublist)\n",
    "    return flattened\n",
    "\n",
    "# Flatten the nested list\n",
    "flattened_list = flatten_list(nested_list)\n",
    "\n",
    "# Print the flattened list\n",
    "print(\"Flattened list:\", flattened_list)"
   ]
  },
  {
   "cell_type": "code",
   "execution_count": 14,
   "id": "cd34b676-ea7e-4b0e-a36a-59a4e6eaa13f",
   "metadata": {},
   "outputs": [
    {
     "name": "stdout",
     "output_type": "stream",
     "text": [
      "the fabonacchi series is  [0, 1, 1, 2, 3, 5, 8, 13, 21, 34]\n"
     ]
    }
   ],
   "source": [
    "#29. Create a list of the first 10 Fibonacci numbers.\n",
    "#initializition of first two number\n",
    "fibonacci_sequence = [0, 1] \n",
    "\n",
    "# Use a for loop to generate the next 8 Fibonacci numbers\n",
    "for x in range(8):\n",
    "    next_number = fibonacci_sequence[-1] + fibonacci_sequence[-2]\n",
    "    fibonacci_sequence.append(next_number)\n",
    "\n",
    "# Print the list of the first 10 Fibonacci numbers\n",
    "print(\"the fabonacchi series is \",fibonacci_sequence)"
   ]
  },
  {
   "cell_type": "code",
   "execution_count": 20,
   "id": "e6e2dab6-ecf1-4ad1-93d7-6ebb3f117941",
   "metadata": {},
   "outputs": [
    {
     "name": "stdout",
     "output_type": "stream",
     "text": [
      "list is not sorted\n"
     ]
    }
   ],
   "source": [
    "##30. Check if a list is sorted.\n",
    "lists = [1,12,13,14,5,16,7,18,19,20]\n",
    "if lists  == sorted(lists):\n",
    "    print(\"list is sorted\")\n",
    "else :\n",
    "    print(\"list is not sorted\")"
   ]
  },
  {
   "cell_type": "code",
   "execution_count": 1,
   "id": "316cf5c0-40cc-430f-a5db-8a7403f63f88",
   "metadata": {},
   "outputs": [
    {
     "name": "stdout",
     "output_type": "stream",
     "text": [
      "Rotated list: [3, 4, 5, 6, 1, 2]\n"
     ]
    }
   ],
   "source": [
    "#31. Rotate a list to the left by `n` positions.\n",
    "def rotate_left(lst, n):\n",
    "    n = n % len(lst)  # Normalize n to handle cases where n is larger than the list length\n",
    "    # print(n)\n",
    "    rotated = lst[n:] + lst[:n]\n",
    "    return rotated\n",
    "\n",
    "# Example list\n",
    "my_list = [1, 2, 3, 4, 5, 6]\n",
    "\n",
    "# Number of positions to rotate by\n",
    "n = 2\n",
    "\n",
    "# Rotate the list to the left by n positions\n",
    "rotated_list = rotate_left(my_list, n)\n",
    "\n",
    "# Print the rotated list\n",
    "print(\"Rotated list:\", rotated_list)"
   ]
  },
  {
   "cell_type": "code",
   "execution_count": 2,
   "id": "ae6ac221-ec03-471f-a31c-792ef5d1af3f",
   "metadata": {},
   "outputs": [
    {
     "name": "stdout",
     "output_type": "stream",
     "text": [
      "Rotated list: [5, 6, 1, 2, 3, 4]\n"
     ]
    }
   ],
   "source": [
    "#32. Rotate a list to the right by n positions.\n",
    "def rotate_right(lst, n):\n",
    "    n = n % len(lst)  # Normalize n to handle cases where n is larger than the list length\n",
    "    # print(n)\n",
    "    rotated = lst[-n:] + lst[:-n]\n",
    "    return rotated\n",
    "\n",
    "# Example list\n",
    "my_list = [1, 2, 3, 4, 5, 6]\n",
    "\n",
    "# Number of positions to rotate by\n",
    "n = 2\n",
    "\n",
    "# Rotate the list to the right by n positions\n",
    "rotated_list = rotate_right(my_list, n)\n",
    "\n",
    "# Print the rotated list\n",
    "print(\"Rotated list:\", rotated_list)"
   ]
  },
  {
   "cell_type": "code",
   "execution_count": 7,
   "id": "b907bcf7-1463-4dd9-9773-eb0008e8ea8e",
   "metadata": {},
   "outputs": [
    {
     "name": "stdout",
     "output_type": "stream",
     "text": [
      "[2, 3, 5, 7, 11, 13, 17, 19, 23, 29, 31, 37, 41, 43, 47]\n"
     ]
    }
   ],
   "source": [
    "#33. Create a list of prime numbers up to 50.\n",
    "def is_prime(n):\n",
    "    if n <= 1:\n",
    "        return False\n",
    "    if n <= 3:\n",
    "        return True\n",
    "    if n % 2 == 0 or n % 3 == 0:\n",
    "        return False\n",
    "    i = 5\n",
    "    while i * i <= n:\n",
    "        if n % i == 0 or n % (i + 2) == 0:\n",
    "            return False\n",
    "        i += 6\n",
    "    return True\n",
    "\n",
    "prime_numbers = [2, 3]\n",
    "for num in range(5, 51, 2):\n",
    "    if is_prime(num):\n",
    "        prime_numbers.append(num)\n",
    "\n",
    "print(prime_numbers)\n"
   ]
  },
  {
   "cell_type": "code",
   "execution_count": 8,
   "id": "205c02c4-8a46-4d85-a680-02a1a769d528",
   "metadata": {},
   "outputs": [
    {
     "name": "stdout",
     "output_type": "stream",
     "text": [
      "[2, 3, 5, 7, 11, 13, 17, 19, 23, 29, 31, 37, 41, 43, 47]\n"
     ]
    }
   ],
   "source": [
    "#Split a list into chunks of size n.\n",
    "def sieve_of_eratosthenes(limit):\n",
    "    sieve = [True] * (limit + 1)\n",
    "    sieve[0] = sieve[1] = False\n",
    "\n",
    "    for current in range(2, int(limit**0.5) + 1):\n",
    "        if sieve[current]:\n",
    "            for multiple in range(current * current, limit + 1, current):\n",
    "                sieve[multiple] = False\n",
    "\n",
    "    return [number for number, is_prime in enumerate(sieve) if is_prime]\n",
    "\n",
    "limit = 50\n",
    "prime_numbers = sieve_of_eratosthenes(limit)\n",
    "print(prime_numbers)\n"
   ]
  },
  {
   "cell_type": "code",
   "execution_count": 14,
   "id": "a9afaa03-8d78-49a6-9e79-9ea8cda1ed17",
   "metadata": {},
   "outputs": [
    {
     "name": "stdout",
     "output_type": "stream",
     "text": [
      "10\n"
     ]
    }
   ],
   "source": [
    "#35. Find the second largest number in a list.\n",
    "my_list = [1, 2, 3, 4, 5,5,6,10,10,19,19,19, 6]\n",
    "find = sorted(set((my_list)))\n",
    "print(find[-2])"
   ]
  },
  {
   "cell_type": "code",
   "execution_count": 15,
   "id": "9c0effac-9099-44bf-8ee7-f72af98e5f04",
   "metadata": {},
   "outputs": [
    {
     "name": "stdout",
     "output_type": "stream",
     "text": [
      "the square of [1, 2, 3, 4, 5, 6, 7, 8, 9] is [1, 4, 9, 16, 25, 36, 49, 64, 81]\n"
     ]
    }
   ],
   "source": [
    "#36. Replace every element in a list with its square.\n",
    "my_list = [1,2,3,4,5,6,7,8,9]\n",
    "squared_list = [x ** 2 for x in my_list]\n",
    "print(f\"the square of {my_list} is {squared_list}\")"
   ]
  },
  {
   "cell_type": "code",
   "execution_count": 1,
   "id": "942d3393-cc01-458b-8dff-b39646b189f9",
   "metadata": {},
   "outputs": [
    {
     "name": "stdout",
     "output_type": "stream",
     "text": [
      "{'apple': 0, 'banana': 1, 'cherry': 2, 'date': 3}\n"
     ]
    }
   ],
   "source": [
    "#### 37. Convert a list to a dictionary where list elements become keys and their indices become values.\n",
    "my_list = [\"apple\", \"banana\", \"cherry\", \"date\"]\n",
    "my_dict = {}\n",
    "\n",
    "for index, value in enumerate(my_list):\n",
    "    my_dict[value] = index\n",
    "\n",
    "print(my_dict)\n"
   ]
  },
  {
   "cell_type": "code",
   "execution_count": 2,
   "id": "402dbf32-dfd0-447d-a473-3ac6d06ced53",
   "metadata": {},
   "outputs": [
    {
     "name": "stdout",
     "output_type": "stream",
     "text": [
      "[2, 8, 6, 4, 5, 7, 9, 3, 1]\n"
     ]
    }
   ],
   "source": [
    "#38. Shuffle the elements of a list randomly.\n",
    "import random\n",
    "lists = [1,2,3,4,5,6,7,8,9]\n",
    "#shuffiling random lists :\n",
    "random.shuffle(lists)\n",
    "print(lists)"
   ]
  },
  {
   "cell_type": "code",
   "execution_count": 4,
   "id": "c31dd739-6ef8-40a9-9dfe-87490f7fa1f7",
   "metadata": {},
   "outputs": [
    {
     "name": "stdout",
     "output_type": "stream",
     "text": [
      "[1, 1, 2, 6, 24, 120, 720, 5040, 40320, 362880]\n"
     ]
    }
   ],
   "source": [
    "#39. Create a list of the first 10 factorial numbers.\n",
    "import math\n",
    "\n",
    "# Create a list of the first 10 factorial numbers\n",
    "factorial_list = [math.factorial(n) for n in range(10)]\n",
    "\n",
    "print(factorial_list)\n"
   ]
  },
  {
   "cell_type": "code",
   "execution_count": 17,
   "id": "4cb1c37b-76e7-48b5-99f1-3deb55068b55",
   "metadata": {},
   "outputs": [
    {
     "name": "stdout",
     "output_type": "stream",
     "text": [
      "The lists have  common element. 3\n"
     ]
    }
   ],
   "source": [
    "#40. Check if two lists have at least one element in common\n",
    "def has_common_element(list1, list2):\n",
    "    for item in list1:\n",
    "        if item in list2:\n",
    "            return True\n",
    "    return False\n",
    "\n",
    "# Example lists\n",
    "list1 = [1, 2, 3, 4, 5]\n",
    "list2 = [4, 5, 6, 7, 8]\n",
    "\n",
    "# Check if the two lists have at least one element in common\n",
    "if has_common_element(list1, list2):\n",
    "    print(\"The lists have  common element.\",item)\n",
    "else:\n",
    "    print(\"The lists do not have any common elements.\")"
   ]
  },
  {
   "cell_type": "code",
   "execution_count": 20,
   "id": "7469eb82-a59a-4013-b9d7-3e7b3d6c1136",
   "metadata": {},
   "outputs": [
    {
     "data": {
      "text/plain": [
       "[]"
      ]
     },
     "execution_count": 20,
     "metadata": {},
     "output_type": "execute_result"
    }
   ],
   "source": [
    "#41. Remove all elements from a list.\n",
    "list1 = [1, 2, 3, 4, 5]\n",
    "clear = list1.clear()\n",
    "list1"
   ]
  },
  {
   "cell_type": "code",
   "execution_count": 24,
   "id": "6c196171-64b5-47ad-81e7-5f1a6da33639",
   "metadata": {},
   "outputs": [
    {
     "name": "stdout",
     "output_type": "stream",
     "text": [
      "[10, 20, 0, 30, -3, 3, -5]\n"
     ]
    }
   ],
   "source": [
    "#42. Replace negative numbers in a list with 0.\n",
    "list1 = [10,20,-10,30,-3,3,-5]\n",
    "for i in range(len(my_list)):\n",
    "    if list1[i] < 0:\n",
    "        list1[i] = 0\n",
    "\n",
    "# Print the list after replacing negative numbers with 0\n",
    "print( list1)"
   ]
  },
  {
   "cell_type": "code",
   "execution_count": 29,
   "id": "78a21c13-29f6-4a8a-b26f-df160f8ab34d",
   "metadata": {},
   "outputs": [
    {
     "name": "stdout",
     "output_type": "stream",
     "text": [
      "['Hello,', 'this', 'is', 'a', 'sample', 'sentence.']\n"
     ]
    }
   ],
   "source": [
    "#43. Convert a string into a list of words.\n",
    "my_string = \"Hello, this is a sample sentence.\"\n",
    "word_list = list(my_string.split())\n",
    "print( word_list)"
   ]
  },
  {
   "cell_type": "code",
   "execution_count": 31,
   "id": "7128e4e0-5c85-4ca5-b17f-47bb10816ce3",
   "metadata": {},
   "outputs": [
    {
     "name": "stdout",
     "output_type": "stream",
     "text": [
      "Hello, this is a sample sentence.\n"
     ]
    }
   ],
   "source": [
    "#44. Convert a list of words into a string\n",
    "my_list =['Hello,', 'this', 'is', 'a', 'sample', 'sentence.']\n",
    "join =\" \".join(my_list)\n",
    "print(join)"
   ]
  },
  {
   "cell_type": "code",
   "execution_count": 34,
   "id": "d0b925e0-b8ef-4db0-a3d9-cedb104850b4",
   "metadata": {},
   "outputs": [
    {
     "name": "stdin",
     "output_type": "stream",
     "text": [
      "enter n: 5\n"
     ]
    },
    {
     "name": "stdout",
     "output_type": "stream",
     "text": [
      "[1, 2, 4, 8, 16]\n"
     ]
    }
   ],
   "source": [
    "#45. Create a list of the first n powers of 2.\n",
    "n = int(input(\"enter n:\"))\n",
    "power  =[2**i for i in range(n)]\n",
    "print(power)"
   ]
  },
  {
   "cell_type": "code",
   "execution_count": 38,
   "id": "d338e9ff-5c00-4cbb-8482-0dd073e5c9dd",
   "metadata": {},
   "outputs": [
    {
     "name": "stdout",
     "output_type": "stream",
     "text": [
      "longest\n"
     ]
    }
   ],
   "source": [
    "#46. Find the longest string in a list of strings.\n",
    "list1 =['Find', 'the' ,'longest', 'string', 'in','a' ,'list']\n",
    "longest_string = \"\"\n",
    "for s in list1:\n",
    "    if len(s) > len(longest_string):\n",
    "        longest_string = s\n",
    "print(longest_string)"
   ]
  },
  {
   "cell_type": "code",
   "execution_count": 42,
   "id": "84ed5786-c542-465e-ab4c-51a98d1beb08",
   "metadata": {},
   "outputs": [
    {
     "name": "stdout",
     "output_type": "stream",
     "text": [
      "a\n"
     ]
    }
   ],
   "source": [
    "#47. Find the shortest string in a list of strings.\n",
    "list1 =['Find', 'the' ,'longest', 'string', 'in','a' ,'list']\n",
    "shortest_string = list1[0]\n",
    "for s in list1:\n",
    "    if len(s) < len(shortest_string):\n",
    "        shortest_string = s\n",
    "print(shortest_string) "
   ]
  },
  {
   "cell_type": "code",
   "execution_count": 43,
   "id": "6f2d3839-2342-4384-ba25-bcd0323287ff",
   "metadata": {},
   "outputs": [
    {
     "name": "stdout",
     "output_type": "stream",
     "text": [
      "List of the first 5 triangular numbers: [1, 3, 6, 10, 15]\n"
     ]
    }
   ],
   "source": [
    "#48. Create a list of the first n triangular numbers.\n",
    "# Function to calculate triangular numbers\n",
    "def triangular_numbers(n):\n",
    "    return [i * (i + 1) // 2 for i in range(1, n + 1)]\n",
    "\n",
    "# Specify the value of n\n",
    "n = 5\n",
    "\n",
    "# Create a list of the first n triangular numbers\n",
    "triangular_list = triangular_numbers(n)\n",
    "\n",
    "# Print the list of triangular numbers\n",
    "print(\"List of the first\", n, \"triangular numbers:\", triangular_list)"
   ]
  },
  {
   "cell_type": "code",
   "execution_count": 44,
   "id": "21dd61b7-6e50-4bb0-8701-f0cd4917b29f",
   "metadata": {},
   "outputs": [
    {
     "name": "stdout",
     "output_type": "stream",
     "text": [
      "Main list contains the subsequence.\n"
     ]
    }
   ],
   "source": [
    "#49. Check if a list contains another list as a subsequence.\n",
    "# Function to check if a list contains another list as a subsequence\n",
    "def is_subsequence(subsequence, main_list):\n",
    "    subseq_index = 0  # Index for the subsequence elements\n",
    "    for element in main_list:\n",
    "        if element == subsequence[subseq_index]:\n",
    "            subseq_index += 1\n",
    "            if subseq_index == len(subsequence):\n",
    "                return True\n",
    "    return False\n",
    "\n",
    "# Example main list and subsequence\n",
    "main_list = [1, 2, 3, 4, 5, 6, 7, 8, 9, 10]\n",
    "subsequence = [3, 5, 8]\n",
    "\n",
    "# Check if the main list contains the subsequence\n",
    "if is_subsequence(subsequence, main_list):\n",
    "    print(\"Main list contains the subsequence.\")\n",
    "else:\n",
    "    print(\"Main list does not contain the subsequence.\")"
   ]
  },
  {
   "cell_type": "code",
   "execution_count": 45,
   "id": "779fa251-c759-4892-9885-0855a690f69d",
   "metadata": {},
   "outputs": [
    {
     "name": "stdout",
     "output_type": "stream",
     "text": [
      "List after swapping elements: [1, 4, 3, 2, 5]\n"
     ]
    }
   ],
   "source": [
    "### 50. Swap two elements in a list by their indices.\n",
    "my_list = [1, 2, 3, 4, 5]\n",
    "\n",
    "# Indices of elements to swap\n",
    "index1 = 1\n",
    "index2 = 3\n",
    "\n",
    "# Swap the elements at the specified indices\n",
    "temp = my_list[index1]\n",
    "my_list[index1] = my_list[index2]\n",
    "my_list[index2] = temp\n",
    "\n",
    "# Print the list after swapping\n",
    "print(\"List after swapping elements:\", my_list)\n"
   ]
  },
  {
   "cell_type": "code",
   "execution_count": 7,
   "id": "ddedd5d1-0914-4cbc-912d-fa61142ff66e",
   "metadata": {},
   "outputs": [
    {
     "data": {
      "text/plain": [
       "{1, 2, 3, 4, 5}"
      ]
     },
     "execution_count": 7,
     "metadata": {},
     "output_type": "execute_result"
    }
   ],
   "source": [
    "#1. Create a set with integers from 1 to 5\n",
    "set1 = set(range(1,6))\n",
    "set1"
   ]
  },
  {
   "cell_type": "code",
   "execution_count": 9,
   "id": "ad97b6de-ddb9-4fdc-9e61-b016a4e42fb4",
   "metadata": {},
   "outputs": [
    {
     "data": {
      "text/plain": [
       "{1, 2, 3, 4, 5, 7}"
      ]
     },
     "execution_count": 9,
     "metadata": {},
     "output_type": "execute_result"
    }
   ],
   "source": [
    "#2. Add an element to a set\n",
    "set1 = {1, 2, 3, 4, 5}\n",
    "set1.add(7)\n",
    "set1"
   ]
  },
  {
   "cell_type": "code",
   "execution_count": 10,
   "id": "3cd9418f-60ec-4e7c-94c6-d0a6dea7c8cc",
   "metadata": {},
   "outputs": [
    {
     "data": {
      "text/plain": [
       "{1, 2, 3, 4, 5}"
      ]
     },
     "execution_count": 10,
     "metadata": {},
     "output_type": "execute_result"
    }
   ],
   "source": [
    "#3. Remove an element from a set.\n",
    "set1 ={1, 2, 3, 4, 5, 7}\n",
    "set1.remove(7)\n",
    "set1"
   ]
  },
  {
   "cell_type": "code",
   "execution_count": 14,
   "id": "a3bba3b9-9949-427e-9a81-b33a9177ca3c",
   "metadata": {},
   "outputs": [
    {
     "name": "stdout",
     "output_type": "stream",
     "text": [
      "element found\n"
     ]
    }
   ],
   "source": [
    "#4. Check if an element exists in a set.\n",
    "set1 ={1, 2, 3, 4, 5,7}\n",
    "if 7 in set1:\n",
    "    print(\"element found\")\n",
    "else :\n",
    "    print(\"element not found\")\n"
   ]
  },
  {
   "cell_type": "code",
   "execution_count": 17,
   "id": "7afbd909-7ed9-4e6d-b43e-9f930b4e9337",
   "metadata": {},
   "outputs": [
    {
     "data": {
      "text/plain": [
       "6"
      ]
     },
     "execution_count": 17,
     "metadata": {},
     "output_type": "execute_result"
    }
   ],
   "source": [
    "#5. Find the length of a set without using the len() function\n",
    "set1 ={1, 2, 3, 4, 5,7}\n",
    "count =0;\n",
    "for x in set1:\n",
    "    count+=1;\n",
    "count\n"
   ]
  },
  {
   "cell_type": "code",
   "execution_count": 2,
   "id": "35c92ab4-862f-4a32-befa-60fbf3c345a4",
   "metadata": {},
   "outputs": [
    {
     "name": "stdout",
     "output_type": "stream",
     "text": [
      "is present\n"
     ]
    }
   ],
   "source": [
    "#6. Check if an element exists in a tuple.\n",
    "\n",
    "tup  = (1, 2, 3, 4, 5,7)\n",
    "if 7 in tup:\n",
    "    print(\"is present\")\n",
    "else :\n",
    "    print(\"Not present\")"
   ]
  },
  {
   "cell_type": "code",
   "execution_count": 3,
   "id": "04598f00-c825-48b7-bf6d-f0e2e563844f",
   "metadata": {},
   "outputs": [
    {
     "data": {
      "text/plain": [
       "[1, 2, 3, 4, 5, 7]"
      ]
     },
     "execution_count": 3,
     "metadata": {},
     "output_type": "execute_result"
    }
   ],
   "source": [
    "# 7. Convert a tuple to a list.\n",
    "tup  = (1, 2, 3, 4, 5,7)\n",
    "convet = list(tup)\n",
    "convet"
   ]
  },
  {
   "cell_type": "code",
   "execution_count": 4,
   "id": "eafcca08-37fd-4423-805b-9837350d9813",
   "metadata": {},
   "outputs": [
    {
     "data": {
      "text/plain": [
       "(1, 2, 3, 4, 5, 7)"
      ]
     },
     "execution_count": 4,
     "metadata": {},
     "output_type": "execute_result"
    }
   ],
   "source": [
    "#8. Convert a list to a tuple.\n",
    "lists  = [1, 2, 3, 4, 5,7]\n",
    "convet = tuple(lists)\n",
    "convet"
   ]
  },
  {
   "cell_type": "code",
   "execution_count": 7,
   "id": "785c7a71-5573-4fc0-95d8-5059cc6cbcc8",
   "metadata": {},
   "outputs": [
    {
     "name": "stdout",
     "output_type": "stream",
     "text": [
      "a: 10\n",
      "b: 20\n",
      "c: 30\n"
     ]
    }
   ],
   "source": [
    "#9. Unpack the elements of a tuple into variables\n",
    "tup = (10,20,30)\n",
    "a,b,c = tup\n",
    "print (\"a:\",a)\n",
    "print (\"b:\",b)\n",
    "print (\"c:\",c)"
   ]
  },
  {
   "cell_type": "code",
   "execution_count": 15,
   "id": "325bf075-bf0f-45e0-90cf-c2b06e3ea506",
   "metadata": {},
   "outputs": [
    {
     "data": {
      "text/plain": [
       "(2, 4, 6, 8, 10)"
      ]
     },
     "execution_count": 15,
     "metadata": {},
     "output_type": "execute_result"
    }
   ],
   "source": [
    "#10. Create a tuple of even numbers from 1 to 10\n",
    "tup = tuple(range(2,11,2))\n",
    "tup\n"
   ]
  },
  {
   "cell_type": "code",
   "execution_count": 16,
   "id": "a98eccca-a59e-41b3-a03c-10760af5b08f",
   "metadata": {},
   "outputs": [
    {
     "data": {
      "text/plain": [
       "(1, 3, 5, 7, 9)"
      ]
     },
     "execution_count": 16,
     "metadata": {},
     "output_type": "execute_result"
    }
   ],
   "source": [
    "#11. Create a tuple of odd numbers from 1 to 10.\n",
    "tup = tuple(range(1,11,2))\n",
    "tup\n"
   ]
  },
  {
   "cell_type": "code",
   "execution_count": 17,
   "id": "2e34779b-5889-4f83-a407-0d3e7366364a",
   "metadata": {},
   "outputs": [
    {
     "data": {
      "text/plain": [
       "(1, 2, 3, 4, 5, 6)"
      ]
     },
     "execution_count": 17,
     "metadata": {},
     "output_type": "execute_result"
    }
   ],
   "source": [
    "#12. Concatenate two tuples.\n",
    "tuple1 = (1, 2, 3)\n",
    "tuple2 = (4, 5, 6)\n",
    "tuple1+tuple2"
   ]
  },
  {
   "cell_type": "code",
   "execution_count": 18,
   "id": "9044fd5f-d9b8-486a-8191-4979bf972426",
   "metadata": {},
   "outputs": [
    {
     "data": {
      "text/plain": [
       "(1, 2, 3, 1, 2, 3, 1, 2, 3)"
      ]
     },
     "execution_count": 18,
     "metadata": {},
     "output_type": "execute_result"
    }
   ],
   "source": [
    "#13. Repeat a tuple three times.\n",
    "tuple1 = (1, 2, 3)\n",
    "tuple2 = tuple1 *3\n",
    "tuple2"
   ]
  },
  {
   "cell_type": "code",
   "execution_count": 26,
   "id": "59aa37fe-804b-4a5c-bd93-c50002e25430",
   "metadata": {},
   "outputs": [
    {
     "name": "stdin",
     "output_type": "stream",
     "text": [
      "enter tuple \n"
     ]
    },
    {
     "name": "stdout",
     "output_type": "stream",
     "text": [
      "tuple is empty\n"
     ]
    }
   ],
   "source": [
    "#14. Check if a tuple is empty.\n",
    "tup = tuple(input(\"enter tuple\"))\n",
    "if tup == ():\n",
    "    print(\"tuple is empty\")\n",
    "else:\n",
    "    print (\"tuple have some element \",tup)\n"
   ]
  },
  {
   "cell_type": "code",
   "execution_count": 27,
   "id": "627b4d96-cf01-47f2-aa9f-0d3e9905c81f",
   "metadata": {},
   "outputs": [
    {
     "data": {
      "text/plain": [
       "((1, 2, 3), ('a', 'b', 'c'), (True, False))"
      ]
     },
     "execution_count": 27,
     "metadata": {},
     "output_type": "execute_result"
    }
   ],
   "source": [
    "#15. Create a nested tuple.\n",
    "nested_tuple = ((1, 2, 3), ('a', 'b', 'c'), (True, False))\n",
    "nested_tuple"
   ]
  },
  {
   "cell_type": "code",
   "execution_count": 36,
   "id": "9501d45f-2221-4029-84b3-810dfd3d3655",
   "metadata": {},
   "outputs": [
    {
     "data": {
      "text/plain": [
       "(1, 2, 3)"
      ]
     },
     "execution_count": 36,
     "metadata": {},
     "output_type": "execute_result"
    }
   ],
   "source": [
    "#### 16. Access the first element of a nested tuple.\n",
    "nested_tuple = ((1, 2, 3), ('a', 'b', 'c'), (True, False))\n",
    "nested_tuple[0]"
   ]
  },
  {
   "cell_type": "code",
   "execution_count": 2,
   "id": "d567780a-9340-423b-9cfd-1e679d359c78",
   "metadata": {},
   "outputs": [
    {
     "data": {
      "text/plain": [
       "{2, 3, 4, 5}"
      ]
     },
     "execution_count": 2,
     "metadata": {},
     "output_type": "execute_result"
    }
   ],
   "source": [
    "#17. Pop an element from a set.\n",
    "my_set = {1, 2, 3, 4, 5}\n",
    "my_set.pop()\n",
    "my_set"
   ]
  },
  {
   "cell_type": "code",
   "execution_count": 9,
   "id": "35eceaf3-3b43-4043-8673-6bb5063e27dd",
   "metadata": {},
   "outputs": [
    {
     "name": "stdout",
     "output_type": "stream",
     "text": [
      "no common element\n"
     ]
    }
   ],
   "source": [
    "#18. Check if two sets have no elements in common.\n",
    "set1 = {1, 2, 3, 4}\n",
    "set2 = {5, 6, 7, 8}\n",
    "if not set1.intersection(set2):\n",
    "    print(\"no common element\")\n",
    "else :\n",
    "    print(\" common element\")"
   ]
  },
  {
   "cell_type": "code",
   "execution_count": 15,
   "id": "bd9fbb02-81d2-480e-8b12-292b91f5f737",
   "metadata": {},
   "outputs": [
    {
     "data": {
      "text/plain": [
       "{1, 2, 3, 6, 7, 8}"
      ]
     },
     "execution_count": 15,
     "metadata": {},
     "output_type": "execute_result"
    }
   ],
   "source": [
    "#19. Find the symmetric difference between two sets.\n",
    "set1 = {1, 2, 3, 4, 5}\n",
    "set2 = {4, 5, 6, 7, 8}\n",
    "new = set1.symmetric_difference(set2)\n",
    "new"
   ]
  },
  {
   "cell_type": "code",
   "execution_count": 18,
   "id": "194278a5-7e00-4499-990d-33ea69549450",
   "metadata": {},
   "outputs": [],
   "source": [
    "#20. Update a set with elements from another set..\n",
    "set1 = {1, 2, 3, 4, 5}\n",
    "set2 = {4, 5, 6, 7, 8}\n",
    "new = set1.update(set2)\n",
    "new"
   ]
  },
  {
   "cell_type": "code",
   "execution_count": 19,
   "id": "4521f30b-51df-4cc6-9fef-e1c76bc5eea0",
   "metadata": {},
   "outputs": [
    {
     "name": "stdout",
     "output_type": "stream",
     "text": [
      "{2, 3, 5, 7, 11}\n"
     ]
    }
   ],
   "source": [
    "# 2# 21. Create a set of the first 5 prime numbers..\n",
    "def is_prime(num):\n",
    "    if num <= 1:\n",
    "        return False\n",
    "    if num <= 3:\n",
    "        return True\n",
    "    if num % 2 == 0 or num % 3 == 0:\n",
    "        return False\n",
    "    i = 5\n",
    "    while i * i <= num:\n",
    "        if num % i == 0 or num % (i + 2) == 0:\n",
    "            return False\n",
    "        i += 6\n",
    "    return True\n",
    "\n",
    "prime_set = set()\n",
    "num = 2\n",
    "while len(prime_set) < 5:\n",
    "    if is_prime(num):\n",
    "        prime_set.add(num)\n",
    "    num += 1\n",
    "\n",
    "print(prime_set)\n"
   ]
  },
  {
   "cell_type": "code",
   "execution_count": 25,
   "id": "9f63fd6d-ca74-44c0-bc48-79e8fb3f3812",
   "metadata": {},
   "outputs": [
    {
     "name": "stdout",
     "output_type": "stream",
     "text": [
      "sets are identical\n"
     ]
    }
   ],
   "source": [
    "#22check two sets are identical\n",
    "set1 = {1, 2, 3, 4, 5}\n",
    "set2 = {3, 1, 5, 2, 4}\n",
    "if set1 == set2 :\n",
    "    print(\"sets are identical\")\n",
    "else :\n",
    "    print (\"sets are not identical\")"
   ]
  },
  {
   "cell_type": "code",
   "execution_count": 27,
   "id": "0cd08fe1-8167-4a04-994f-9017996b781e",
   "metadata": {},
   "outputs": [
    {
     "name": "stdout",
     "output_type": "stream",
     "text": [
      "Frozen Set: frozenset({1, 2, 3, 4, 5})\n"
     ]
    }
   ],
   "source": [
    "#23. Create a frozen set\n",
    "elements = {1, 2, 3, 4, 5}\n",
    "\n",
    "# Step 3: Create a frozen set using the 'frozenset' constructor and passing the list of elements\n",
    "my_frozen_set = frozenset(elements)\n",
    "\n",
    "# Step 4: Print the frozen set\n",
    "print(\"Frozen Set:\", my_frozen_set)"
   ]
  },
  {
   "cell_type": "code",
   "execution_count": 29,
   "id": "9557fdd5-1888-4407-8828-fef990e53e02",
   "metadata": {},
   "outputs": [
    {
     "data": {
      "text/plain": [
       "True"
      ]
     },
     "execution_count": 29,
     "metadata": {},
     "output_type": "execute_result"
    }
   ],
   "source": [
    "#24. Check if a set is disjoint with another set\n",
    "set1 = {1, 2, 3, 4}\n",
    "set2 = {5, 6, 7, 8}\n",
    "#return True if two sets have a null intersection.\n",
    "set3 = set1.isdisjoint(set2)\n",
    "set3"
   ]
  },
  {
   "cell_type": "code",
   "execution_count": 32,
   "id": "f6bb93c4-f049-4fba-b32e-d4f15158072b",
   "metadata": {},
   "outputs": [
    {
     "name": "stdout",
     "output_type": "stream",
     "text": [
      "{1, 4, 9, 16, 25}\n"
     ]
    }
   ],
   "source": [
    "#25. Create a set of squares of numbers from 1 to 5.\n",
    "squareset = set()\n",
    "for n in range(1,6):\n",
    "    square = n ** 2\n",
    "    squareset.add(square)\n",
    "print (squareset)"
   ]
  },
  {
   "cell_type": "code",
   "execution_count": 38,
   "id": "a6eeb838-dbe9-4eb1-81a7-31b1bc1c53f6",
   "metadata": {},
   "outputs": [
    {
     "data": {
      "text/plain": [
       "{2, 4, 6, 8, 10}"
      ]
     },
     "execution_count": 38,
     "metadata": {},
     "output_type": "execute_result"
    }
   ],
   "source": [
    "#6. Filter out all even numbers from a set.\n",
    "set1 = {1,2,3,4,5,6,7,8,9,10}\n",
    "set2 = set()\n",
    "for num in set1:\n",
    "    if num%2 == 0:\n",
    "        set2.add(num)\n",
    "        num+=1\n",
    "set2\n"
   ]
  },
  {
   "cell_type": "code",
   "execution_count": 40,
   "id": "871a58d9-676a-4350-9f5b-530612d8eead",
   "metadata": {},
   "outputs": [
    {
     "name": "stdout",
     "output_type": "stream",
     "text": [
      "{2, 4, 6, 8, 10, 12, 14, 16, 18, 20}\n"
     ]
    }
   ],
   "source": [
    "#27. Multiply all elements in a set by 2.\n",
    "set1 = {1,2,3,4,5,6,7,8,9,10} \n",
    "\n",
    "# Multiply all elements in the set by 2 using a set comprehension\n",
    "result_set = {x * 2 for x in set1}\n",
    "\n",
    "print(result_set)\n"
   ]
  },
  {
   "cell_type": "code",
   "execution_count": 42,
   "id": "a2ebf06e-2963-49b0-ac24-30965529635d",
   "metadata": {},
   "outputs": [
    {
     "name": "stdout",
     "output_type": "stream",
     "text": [
      "Random number are  {2, 92, 27, 28, 29}\n"
     ]
    }
   ],
   "source": [
    "#28. Create a set of random numbers.\n",
    "import random\n",
    "random_num = 5\n",
    "set1 = set()\n",
    "for i in range(5):\n",
    "    random1 = random.randint(1,100)\n",
    "    set1.add(random1)\n",
    "print (\"Random number are \", set1)"
   ]
  },
  {
   "cell_type": "code",
   "execution_count": 50,
   "id": "9f9b7a55-5ed8-4f6d-b8be-b354e11cbb42",
   "metadata": {},
   "outputs": [
    {
     "name": "stdout",
     "output_type": "stream",
     "text": [
      "True\n"
     ]
    }
   ],
   "source": [
    "#28. Create a set of random numbers.\n",
    "set1 =set()\n",
    "if not set1:\n",
    "    print(True)\n",
    "else :\n",
    "    print(False)"
   ]
  },
  {
   "cell_type": "code",
   "execution_count": 51,
   "id": "1e6f2be6-e68a-4e69-8ef9-0b609b8c48b8",
   "metadata": {},
   "outputs": [
    {
     "data": {
      "text/plain": [
       "{frozenset({1, 2, 3, 4, 5}), frozenset({6, 7, 8, 9, 10})}"
      ]
     },
     "execution_count": 51,
     "metadata": {},
     "output_type": "execute_result"
    }
   ],
   "source": [
    "#30. Create a nested set (hint: use frozenset).\n",
    "set1 = {1, 2, 3, 4, 5}\n",
    "set2 = {6, 7, 8, 9, 10}\n",
    "# Step 2: Create frozensets from the inner sets\n",
    "frozen_set1 = frozenset(set1)\n",
    "frozen_set2 = frozenset(set2)\n",
    "\n",
    "# Step 3: Create the nested set using the frozensets\n",
    "nested_set = {frozen_set1, frozen_set2}\n",
    "nested_set\n"
   ]
  },
  {
   "cell_type": "code",
   "execution_count": 1,
   "id": "65a91b2b-ed92-4eb8-8669-2690d807df76",
   "metadata": {},
   "outputs": [
    {
     "data": {
      "text/plain": [
       "{1, 2, 4, 5}"
      ]
     },
     "execution_count": 1,
     "metadata": {},
     "output_type": "execute_result"
    }
   ],
   "source": [
    "#31. Remove an element from a set using the discard method.\n",
    "my_set = {1, 2, 3, 4, 5}\n",
    "my_set.discard(3)\n",
    "my_set"
   ]
  },
  {
   "cell_type": "code",
   "execution_count": 2,
   "id": "745d1bef-6e82-4aff-96f4-bb1b5a05a994",
   "metadata": {},
   "outputs": [
    {
     "name": "stdout",
     "output_type": "stream",
     "text": [
      "Set 1: {1, 2, 3, 4, 5}\n",
      "Set 2: {4, 5, 6, 7, 8}\n",
      "Is set1 a subset of set2? False\n",
      "Is set2 a subset of set1? False\n",
      "Intersection: {4, 5}\n",
      "Union: {1, 2, 3, 4, 5, 6, 7, 8}\n",
      "Elements in set1 but not in set2: {1, 2, 3}\n",
      "Elements in set2 but not in set1: {8, 6, 7}\n"
     ]
    }
   ],
   "source": [
    "#32. Compare two sets.\n",
    "set1 = {1, 2, 3, 4, 5}\n",
    "set2 = {4, 5, 6, 7, 8}\n",
    "is_subset = set1.issubset(set2)\n",
    "\n",
    "# Check if set2 is a subset of set1\n",
    "is_superset = set1.issuperset(set2)\n",
    "\n",
    "# Find the intersection of the sets\n",
    "intersection = set1.intersection(set2)\n",
    "\n",
    "# Find the union of the sets\n",
    "union = set1.union(set2)\n",
    "\n",
    "# Find the elements that are in set1 but not in set2\n",
    "difference1 = set1.difference(set2)\n",
    "\n",
    "# Find the elements that are in set2 but not in set1\n",
    "difference2 = set2.difference(set1)\n",
    "\n",
    "# Step 3: Print the results\n",
    "print(\"Set 1:\", set1)\n",
    "print(\"Set 2:\", set2)\n",
    "print(\"Is set1 a subset of set2?\", is_subset)\n",
    "print(\"Is set2 a subset of set1?\", is_superset)\n",
    "print(\"Intersection:\", intersection)\n",
    "print(\"Union:\", union)\n",
    "print(\"Elements in set1 but not in set2:\", difference1)\n",
    "print(\"Elements in set2 but not in set1:\", difference2)"
   ]
  },
  {
   "cell_type": "code",
   "execution_count": 5,
   "id": "ba1d2b48-ea1f-4182-a7b9-b5fc90095f63",
   "metadata": {},
   "outputs": [
    {
     "name": "stdout",
     "output_type": "stream",
     "text": [
      "[' ', 'C', 'r', 'e', 'a', 't', 'e', ' ', 'a', ' ', 's', 'e', 't', ' ', 'f', 'r', 'o', 'm', ' ', 'a', ' ', 's', 't', 'r', 'i', 'n', 'g', '.']\n"
     ]
    }
   ],
   "source": [
    "#33. Create a set from a string.\n",
    "string = ' Create a set from a string.'\n",
    "new_list = list(string)\n",
    "print(new_list)"
   ]
  },
  {
   "cell_type": "code",
   "execution_count": 9,
   "id": "2bd0be97-899d-4b18-bca6-daf76ec19403",
   "metadata": {},
   "outputs": [
    {
     "name": "stdout",
     "output_type": "stream",
     "text": [
      "{1, 2, 3, 4, 5}\n"
     ]
    }
   ],
   "source": [
    "#34. Convert a set of strings to a set of integers.\n",
    "# Original set of strings\n",
    "string_set = {\"1\", \"2\", \"3\", \"4\", \"5\"}\n",
    "\n",
    "# Convert the set of strings to a set of integers using a loop\n",
    "integer_set = set()\n",
    "for item in string_set:\n",
    "    integer_set.add(int(item))\n",
    "\n",
    "# Alternatively, you can use a set comprehension for a more concise approach\n",
    "integer_set = {int(item) for item in string_set}\n",
    "\n",
    "# Now, 'integer_set' contains the set of integers\n",
    "print(integer_set)\n"
   ]
  },
  {
   "cell_type": "code",
   "execution_count": 1,
   "id": "c0f5bcf5-c69f-4ea2-9dba-db927f18011e",
   "metadata": {},
   "outputs": [
    {
     "name": "stdout",
     "output_type": "stream",
     "text": [
      "{'4', '2', '3', '1', '5'}\n"
     ]
    }
   ],
   "source": [
    "#35. Convert a set of integers to a set of strings\n",
    "int_set = {1,2,3,4,5}\n",
    "\n",
    "# Convert the set of strings to a set of integers using a loop\n",
    "string_set = set()\n",
    "for item in int_set:\n",
    "    string_set.add(str(item))\n",
    "\n",
    "# Alternatively, you can use a set comprehension for a more concise approach\n",
    "string_set = {str(item) for item in int_set}\n",
    "\n",
    "# Now, 'integer_set' contains the set of integers\n",
    "print(string_set)\n"
   ]
  },
  {
   "cell_type": "code",
   "execution_count": 2,
   "id": "c514098e-16ed-4eb1-a36e-e173803fe743",
   "metadata": {},
   "outputs": [
    {
     "data": {
      "text/plain": [
       "{1, 2, 3, 4, 5, 6, 7, 8, 9}"
      ]
     },
     "execution_count": 2,
     "metadata": {},
     "output_type": "execute_result"
    }
   ],
   "source": [
    "#36. Create a set from a tuple.\n",
    "tup  = (1,2,3,4,5,6,7,8,9)\n",
    "set1 = set(tup)\n",
    "set1"
   ]
  },
  {
   "cell_type": "code",
   "execution_count": 3,
   "id": "b06af18a-d1b7-47f2-99af-7098d077cb6a",
   "metadata": {},
   "outputs": [
    {
     "data": {
      "text/plain": [
       "(1, 2, 3, 4, 5, 6, 7, 8, 9)"
      ]
     },
     "execution_count": 3,
     "metadata": {},
     "output_type": "execute_result"
    }
   ],
   "source": [
    "#37. Convert a set to a tuple.\n",
    "set1 = {1,2,3,4,5,6,7,8,9}\n",
    "tup = tuple(set1)\n",
    "tup\n"
   ]
  },
  {
   "cell_type": "code",
   "execution_count": 6,
   "id": "5576436c-6122-4d55-851f-a5c5db24e1d4",
   "metadata": {},
   "outputs": [
    {
     "name": "stdout",
     "output_type": "stream",
     "text": [
      "The maximum value is  81\n"
     ]
    }
   ],
   "source": [
    "#38. Find the maximum value in a set.\n",
    "set1 = {11,22,3,43,55,6,7,81,9}\n",
    "new = max(set1)\n",
    "print(\"The maximum value is \",new)"
   ]
  },
  {
   "cell_type": "code",
   "execution_count": 5,
   "id": "7b90dcfa-4127-4913-b7c8-02af68dcd5be",
   "metadata": {},
   "outputs": [
    {
     "name": "stdout",
     "output_type": "stream",
     "text": [
      "the minimum value is 3\n"
     ]
    }
   ],
   "source": [
    "#39. Find the minimum value in a set\n",
    "set1 = {11,22,3,43,55,6,7,81,9}\n",
    "new = min(set1)\n",
    "print(\"the minimum value is\",new)"
   ]
  },
  {
   "cell_type": "code",
   "execution_count": 13,
   "id": "79a526af-8d72-4e73-b2c2-ec0356e8ac6e",
   "metadata": {},
   "outputs": [
    {
     "name": "stdin",
     "output_type": "stream",
     "text": [
      "Enter set values azman\n"
     ]
    },
    {
     "name": "stdout",
     "output_type": "stream",
     "text": [
      "{'a', 'z', 'm', 'n'}\n"
     ]
    }
   ],
   "source": [
    "#40. Create a set from user input.i\n",
    "input_set = set(input(\"Enter set values\"))\n",
    "print (input_set)"
   ]
  },
  {
   "cell_type": "code",
   "execution_count": 16,
   "id": "8a238f25-be51-4e52-867f-68f9d207a5c8",
   "metadata": {},
   "outputs": [
    {
     "name": "stdout",
     "output_type": "stream",
     "text": [
      "Not empty  {4, 5}\n"
     ]
    }
   ],
   "source": [
    "#41. Check if the intersection of two sets is empty.\n",
    "set1 = {1, 2, 3, 4, 5}\n",
    "set2 = {4,5, 6, 7, 8}\n",
    "new = set1.intersection(set2)\n",
    "if new == set():\n",
    "    print (\"empty set\")\n",
    "else:\n",
    "    print(\"Not empty \",new)\n"
   ]
  },
  {
   "cell_type": "code",
   "execution_count": 17,
   "id": "31bd883a-510f-4f65-ab98-b28d345a21f5",
   "metadata": {},
   "outputs": [
    {
     "name": "stdout",
     "output_type": "stream",
     "text": [
      "fibonacci set 1-5 {0, 1, 2, 4, 8, 16}\n"
     ]
    }
   ],
   "source": [
    "#42. Create a set of the first 5 Fibonacci numbers.\n",
    "fibonacci_set = set()\n",
    "a =0\n",
    "b =1\n",
    "for r in range(6):\n",
    "    fibonacci_set.add(a)\n",
    "    a=b\n",
    "    b=a+b\n",
    "print(\"fibonacci set 1-5\",fibonacci_set )"
   ]
  },
  {
   "cell_type": "code",
   "execution_count": 20,
   "id": "1399dd03-c803-4373-aa0a-3f9ceb999384",
   "metadata": {},
   "outputs": [
    {
     "name": "stdout",
     "output_type": "stream",
     "text": [
      "printing the list removing all the duplictes {2, 4, 6, 8, 10, 12, 14}\n"
     ]
    }
   ],
   "source": [
    "#43. Remove duplicates from a list using sets.\n",
    "list1 = [2, 4, 6, 8, 4, 10, 6, 12, 14, 8]\n",
    "newList = set(list1)\n",
    "print(\"printing the list removing all the duplictes\",newList)"
   ]
  },
  {
   "cell_type": "code",
   "execution_count": 23,
   "id": "47fb9ceb-3a0b-44f8-a487-179c2e31e591",
   "metadata": {},
   "outputs": [
    {
     "name": "stdout",
     "output_type": "stream",
     "text": [
      "The sets have the same elements regardless of count.\n"
     ]
    }
   ],
   "source": [
    "#44. Check if two sets have the same elements, regardless of their count.\n",
    "set1 = {1, 2, 3, 4, 5, 5}\n",
    "set2 = {5, 4, 3, 2, 1}\n",
    "\n",
    "# Convert sets to sorted lists\n",
    "list1 = sorted(list(set1))\n",
    "list2 = sorted(list(set2))\n",
    "\n",
    "# Check if the sorted lists are equal\n",
    "if list1 == list2:\n",
    "    print(\"The sets have the same elements\")\n",
    "else:\n",
    "    print(\"The sets are not the same.\")\n"
   ]
  },
  {
   "cell_type": "code",
   "execution_count": 28,
   "id": "b5d530be-43ae-4fb5-84ac-9cb629d801b0",
   "metadata": {},
   "outputs": [
    {
     "name": "stdout",
     "output_type": "stream",
     "text": [
      "{1, 2, 4, 8, 16}\n"
     ]
    }
   ],
   "source": [
    "#45. Create a set of the first n powers of 2\n",
    "power2 = set()\n",
    "for i in range(5):\n",
    "    power = 2**i\n",
    "    power2.add(power)\n",
    "print(power2)"
   ]
  },
  {
   "cell_type": "code",
   "execution_count": 32,
   "id": "e33b2ff1-1f52-4839-bbbd-425134e181a5",
   "metadata": {},
   "outputs": [
    {
     "name": "stdout",
     "output_type": "stream",
     "text": [
      "common element [9, 12, 7]\n"
     ]
    }
   ],
   "source": [
    "#46. Find the common elements between a set and a list.\n",
    "my_set = {3, 7, 9, 12, 15}\n",
    "my_list = [7, 12, 5, 9]\n",
    "newlist = set(my_list)\n",
    "check = my_set.intersection(newlist)\n",
    "if check == set():\n",
    "    print(\"no common element\")\n",
    "else :\n",
    "    print(\"common element\",list(check))"
   ]
  },
  {
   "cell_type": "code",
   "execution_count": 33,
   "id": "0f43b54f-4883-4d3c-a5e9-0294e223dfd6",
   "metadata": {},
   "outputs": [
    {
     "name": "stdout",
     "output_type": "stream",
     "text": [
      "{1, 3, 36, 6, 10, 45, 15, 21, 55, 28}\n"
     ]
    }
   ],
   "source": [
    "#47. Create a set of the first n triangular numbers.\n",
    "def generate_triangular_numbers(n):\n",
    "    triangular_numbers = set()\n",
    "    for i in range(1, n + 1):\n",
    "        tn = i * (i + 1) // 2  # Calculate the nth triangular number\n",
    "        triangular_numbers.add(tn)  # Add it to the set\n",
    "    return triangular_numbers\n",
    "\n",
    "n = 10  # Replace with the desired number of triangular numbers\n",
    "triangular_numbers_set = generate_triangular_numbers(n)\n",
    "print(triangular_numbers_set)\n"
   ]
  },
  {
   "cell_type": "code",
   "execution_count": 34,
   "id": "802f49ec-fcfc-491f-bba4-0f757c0178c6",
   "metadata": {},
   "outputs": [
    {
     "name": "stdout",
     "output_type": "stream",
     "text": [
      "set2 is a subset of set1\n"
     ]
    }
   ],
   "source": [
    "#48. Check if a set contains another set as a subset.\n",
    "set1 = {1, 2, 3, 4, 5}\n",
    "set2 = {1,2}\n",
    "subset = set2.issubset(set1)\n",
    "if subset:\n",
    "    print(\"set2 is a subset of set1\")\n",
    "else:\n",
    "    print(\"set2 is not a subset of set1\")"
   ]
  },
  {
   "cell_type": "code",
   "execution_count": 35,
   "id": "684652a9-d3fb-4bd1-8dfe-2db2cdee1e09",
   "metadata": {},
   "outputs": [
    {
     "name": "stdout",
     "output_type": "stream",
     "text": [
      "{0, 1}\n"
     ]
    }
   ],
   "source": [
    "#49. Create a set of alternating 1s and 0s of length n.\n",
    "n = 10  # Replace with the desired length of the alternating sequence\n",
    "alternating_set = set()\n",
    "for i in range(n):\n",
    "    alternating_set.add(i % 2)  # Add 0 or 1 alternately\n",
    "\n",
    "print(alternating_set)\n"
   ]
  },
  {
   "cell_type": "code",
   "execution_count": 40,
   "id": "6b61366c-f792-48a5-b6e1-7aad25f80b7a",
   "metadata": {},
   "outputs": [
    {
     "name": "stdout",
     "output_type": "stream",
     "text": [
      "{1, 2, 3, 4, 5, 6, 7, 8, 9}\n"
     ]
    }
   ],
   "source": [
    "# 50. Merge multiple sets into one.\n",
    "set1 = {1, 2, 3}\n",
    "set2 = {6, 4, 5}\n",
    "set3 = {8, 9, 7}\n",
    "merge =set1.union(set2,set3)\n",
    "print(merge)"
   ]
  },
  {
   "cell_type": "code",
   "execution_count": null,
   "id": "23958836-8963-4eb2-9710-d1c3d9057a7e",
   "metadata": {},
   "outputs": [],
   "source": []
  }
 ],
 "metadata": {
  "kernelspec": {
   "display_name": "Python 3 (ipykernel)",
   "language": "python",
   "name": "python3"
  },
  "language_info": {
   "codemirror_mode": {
    "name": "ipython",
    "version": 3
   },
   "file_extension": ".py",
   "mimetype": "text/x-python",
   "name": "python",
   "nbconvert_exporter": "python",
   "pygments_lexer": "ipython3",
   "version": "3.10.8"
  }
 },
 "nbformat": 4,
 "nbformat_minor": 5
}
